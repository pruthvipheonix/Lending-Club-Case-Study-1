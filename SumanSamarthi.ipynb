{
 "cells": [
  {
   "cell_type": "markdown",
   "metadata": {},
   "source": [
    "# Suman Pruthvi consumer finance company\n",
    "Here we take loan applicaiton's for all type of loans.\n",
    "Analysis the RISK and provide details about who can go as defaulters based on DRIVER variables or factors.\n",
    "\n",
    "The intent is to reduce/aviod the CREDIT LOSS to the COMPANY."
   ]
  },
  {
   "attachments": {},
   "cell_type": "markdown",
   "metadata": {},
   "source": [
    "# Data Sourcing and Data Understanding\n",
    "### Data Sourcing:\n",
    "Data has been sourced from UPGRAD as part of LENDING CLUB CASE study for the years distributed between 2007 till 2011.\n",
    "\n",
    "Using this data the agenda is to find the driving factors which leads to charge-off from the applicants and causing CREDIT LOSS to the FIRM.\n",
    "\n",
    "###  Variable / Column Understanding in Detail:\n",
    "\n",
    "1. As part of \n"
   ]
  },
  {
   "cell_type": "markdown",
   "metadata": {},
   "source": [
    "# Starting with Data Cleaning"
   ]
  },
  {
   "cell_type": "code",
   "execution_count": 600,
   "metadata": {},
   "outputs": [],
   "source": [
    "# IMPORT all the necessary libraries for LC analysis and visulization \n",
    "import numpy as np               #Importing Numpy library for any scientific calculations\n",
    "import pandas as pd              #Importing pandas for Data Analysis\n",
    "import matplotlib.pyplot as plt  #Importing Matplotlib for Data Visualization\n",
    "#%matplotlib inline              #to clear cache plots to avoid any discripencencies on plots/graphs\n",
    "import warnings                  # This will ignore some of the  warning messages\n",
    "warnings.filterwarnings(\"ignore\")# To ignore unwanted warnings"
   ]
  },
  {
   "cell_type": "code",
   "execution_count": 601,
   "metadata": {},
   "outputs": [],
   "source": [
    "#Import the CSV file into data set\n",
    "df = pd.read_csv('loan_data.csv')"
   ]
  },
  {
   "cell_type": "code",
   "execution_count": 602,
   "metadata": {},
   "outputs": [
    {
     "data": {
      "text/html": [
       "<div>\n",
       "<style scoped>\n",
       "    .dataframe tbody tr th:only-of-type {\n",
       "        vertical-align: middle;\n",
       "    }\n",
       "\n",
       "    .dataframe tbody tr th {\n",
       "        vertical-align: top;\n",
       "    }\n",
       "\n",
       "    .dataframe thead th {\n",
       "        text-align: right;\n",
       "    }\n",
       "</style>\n",
       "<table border=\"1\" class=\"dataframe\">\n",
       "  <thead>\n",
       "    <tr style=\"text-align: right;\">\n",
       "      <th></th>\n",
       "      <th>Column_names</th>\n",
       "      <th>percentage_missing</th>\n",
       "    </tr>\n",
       "  </thead>\n",
       "  <tbody>\n",
       "    <tr>\n",
       "      <th>id</th>\n",
       "      <td>id</td>\n",
       "      <td>0.0</td>\n",
       "    </tr>\n",
       "    <tr>\n",
       "      <th>member_id</th>\n",
       "      <td>member_id</td>\n",
       "      <td>0.0</td>\n",
       "    </tr>\n",
       "    <tr>\n",
       "      <th>loan_amnt</th>\n",
       "      <td>loan_amnt</td>\n",
       "      <td>0.0</td>\n",
       "    </tr>\n",
       "    <tr>\n",
       "      <th>funded_amnt</th>\n",
       "      <td>funded_amnt</td>\n",
       "      <td>0.0</td>\n",
       "    </tr>\n",
       "    <tr>\n",
       "      <th>funded_amnt_inv</th>\n",
       "      <td>funded_amnt_inv</td>\n",
       "      <td>0.0</td>\n",
       "    </tr>\n",
       "    <tr>\n",
       "      <th>...</th>\n",
       "      <td>...</td>\n",
       "      <td>...</td>\n",
       "    </tr>\n",
       "    <tr>\n",
       "      <th>tax_liens</th>\n",
       "      <td>tax_liens</td>\n",
       "      <td>0.1</td>\n",
       "    </tr>\n",
       "    <tr>\n",
       "      <th>tot_hi_cred_lim</th>\n",
       "      <td>tot_hi_cred_lim</td>\n",
       "      <td>100.0</td>\n",
       "    </tr>\n",
       "    <tr>\n",
       "      <th>total_bal_ex_mort</th>\n",
       "      <td>total_bal_ex_mort</td>\n",
       "      <td>100.0</td>\n",
       "    </tr>\n",
       "    <tr>\n",
       "      <th>total_bc_limit</th>\n",
       "      <td>total_bc_limit</td>\n",
       "      <td>100.0</td>\n",
       "    </tr>\n",
       "    <tr>\n",
       "      <th>total_il_high_credit_limit</th>\n",
       "      <td>total_il_high_credit_limit</td>\n",
       "      <td>100.0</td>\n",
       "    </tr>\n",
       "  </tbody>\n",
       "</table>\n",
       "<p>111 rows × 2 columns</p>\n",
       "</div>"
      ],
      "text/plain": [
       "                                          Column_names  percentage_missing\n",
       "id                                                  id                 0.0\n",
       "member_id                                    member_id                 0.0\n",
       "loan_amnt                                    loan_amnt                 0.0\n",
       "funded_amnt                                funded_amnt                 0.0\n",
       "funded_amnt_inv                        funded_amnt_inv                 0.0\n",
       "...                                                ...                 ...\n",
       "tax_liens                                    tax_liens                 0.1\n",
       "tot_hi_cred_lim                        tot_hi_cred_lim               100.0\n",
       "total_bal_ex_mort                    total_bal_ex_mort               100.0\n",
       "total_bc_limit                          total_bc_limit               100.0\n",
       "total_il_high_credit_limit  total_il_high_credit_limit               100.0\n",
       "\n",
       "[111 rows x 2 columns]"
      ]
     },
     "execution_count": 602,
     "metadata": {},
     "output_type": "execute_result"
    }
   ],
   "source": [
    "#Identifying the columns having missing values w.r.t percentage\n",
    "percentage_missing = df.isnull().sum()*100/len(df)\n",
    "percentage_missing = round(percentage_missing,2)\n",
    "percentage_missing.dtypes\n",
    "missing_value_df = pd.DataFrame({'Column_names':df.columns,'percentage_missing':percentage_missing})\n",
    "missing_value_df"
   ]
  },
  {
   "cell_type": "code",
   "execution_count": 603,
   "metadata": {},
   "outputs": [],
   "source": [
    "#Dropping the INDEX due to redundancy\n",
    "missing_value_df.reset_index(drop=True,inplace=True) "
   ]
  },
  {
   "cell_type": "code",
   "execution_count": 604,
   "metadata": {},
   "outputs": [
    {
     "data": {
      "text/plain": [
       "54"
      ]
     },
     "execution_count": 604,
     "metadata": {},
     "output_type": "execute_result"
    }
   ],
   "source": [
    "# Here the total nmber of missing columns with 100% elements are 54 columns\n",
    "missing_column_100per = missing_value_df[missing_value_df.percentage_missing>=100].shape[0]\n",
    "missing_column_100per"
   ]
  },
  {
   "cell_type": "code",
   "execution_count": 605,
   "metadata": {},
   "outputs": [
    {
     "data": {
      "text/plain": [
       "(39717, 111)"
      ]
     },
     "execution_count": 605,
     "metadata": {},
     "output_type": "execute_result"
    }
   ],
   "source": [
    "# To know the size of the original data frame \n",
    "df.shape\n",
    "#Total rows 39717\n",
    "#Total columns 111"
   ]
  },
  {
   "cell_type": "code",
   "execution_count": 606,
   "metadata": {},
   "outputs": [
    {
     "data": {
      "text/plain": [
       "57"
      ]
     },
     "execution_count": 606,
     "metadata": {},
     "output_type": "execute_result"
    }
   ],
   "source": [
    "# The total number of columns needed for analysis are 57\n",
    "111-54"
   ]
  },
  {
   "cell_type": "markdown",
   "metadata": {},
   "source": [
    "### Fixing ROWS and Columns"
   ]
  },
  {
   "cell_type": "code",
   "execution_count": 607,
   "metadata": {},
   "outputs": [],
   "source": [
    "#Delete all columns where every element in th column is 'NULL'\n",
    "#df1 is the new data frame after deleting the unwanted columns\n",
    "df1 = df.dropna(axis='columns',how='all')"
   ]
  },
  {
   "cell_type": "code",
   "execution_count": 608,
   "metadata": {},
   "outputs": [
    {
     "data": {
      "text/plain": [
       "(39717, 57)"
      ]
     },
     "execution_count": 608,
     "metadata": {},
     "output_type": "execute_result"
    }
   ],
   "source": [
    "df1.shape\n",
    "#After deleting the unwanted columns where all elements are NA\n",
    "#Total rows 39717  --->No change in rows\n",
    "#Total columns 57"
   ]
  },
  {
   "cell_type": "code",
   "execution_count": 609,
   "metadata": {},
   "outputs": [
    {
     "data": {
      "text/html": [
       "<div>\n",
       "<style scoped>\n",
       "    .dataframe tbody tr th:only-of-type {\n",
       "        vertical-align: middle;\n",
       "    }\n",
       "\n",
       "    .dataframe tbody tr th {\n",
       "        vertical-align: top;\n",
       "    }\n",
       "\n",
       "    .dataframe thead th {\n",
       "        text-align: right;\n",
       "    }\n",
       "</style>\n",
       "<table border=\"1\" class=\"dataframe\">\n",
       "  <thead>\n",
       "    <tr style=\"text-align: right;\">\n",
       "      <th></th>\n",
       "      <th>id</th>\n",
       "      <th>member_id</th>\n",
       "      <th>loan_amnt</th>\n",
       "      <th>funded_amnt</th>\n",
       "      <th>funded_amnt_inv</th>\n",
       "      <th>term</th>\n",
       "      <th>int_rate</th>\n",
       "      <th>installment</th>\n",
       "      <th>grade</th>\n",
       "      <th>sub_grade</th>\n",
       "      <th>...</th>\n",
       "      <th>next_pymnt_d</th>\n",
       "      <th>last_credit_pull_d</th>\n",
       "      <th>collections_12_mths_ex_med</th>\n",
       "      <th>policy_code</th>\n",
       "      <th>application_type</th>\n",
       "      <th>acc_now_delinq</th>\n",
       "      <th>chargeoff_within_12_mths</th>\n",
       "      <th>delinq_amnt</th>\n",
       "      <th>pub_rec_bankruptcies</th>\n",
       "      <th>tax_liens</th>\n",
       "    </tr>\n",
       "  </thead>\n",
       "  <tbody>\n",
       "    <tr>\n",
       "      <th>0</th>\n",
       "      <td>1077501</td>\n",
       "      <td>1296599</td>\n",
       "      <td>5000</td>\n",
       "      <td>5000</td>\n",
       "      <td>4975.0</td>\n",
       "      <td>36 months</td>\n",
       "      <td>10.65%</td>\n",
       "      <td>162.87</td>\n",
       "      <td>B</td>\n",
       "      <td>B2</td>\n",
       "      <td>...</td>\n",
       "      <td>NaN</td>\n",
       "      <td>May-16</td>\n",
       "      <td>0.0</td>\n",
       "      <td>1</td>\n",
       "      <td>INDIVIDUAL</td>\n",
       "      <td>0</td>\n",
       "      <td>0.0</td>\n",
       "      <td>0</td>\n",
       "      <td>0.0</td>\n",
       "      <td>0.0</td>\n",
       "    </tr>\n",
       "    <tr>\n",
       "      <th>1</th>\n",
       "      <td>1077430</td>\n",
       "      <td>1314167</td>\n",
       "      <td>2500</td>\n",
       "      <td>2500</td>\n",
       "      <td>2500.0</td>\n",
       "      <td>60 months</td>\n",
       "      <td>15.27%</td>\n",
       "      <td>59.83</td>\n",
       "      <td>C</td>\n",
       "      <td>C4</td>\n",
       "      <td>...</td>\n",
       "      <td>NaN</td>\n",
       "      <td>Sep-13</td>\n",
       "      <td>0.0</td>\n",
       "      <td>1</td>\n",
       "      <td>INDIVIDUAL</td>\n",
       "      <td>0</td>\n",
       "      <td>0.0</td>\n",
       "      <td>0</td>\n",
       "      <td>0.0</td>\n",
       "      <td>0.0</td>\n",
       "    </tr>\n",
       "    <tr>\n",
       "      <th>2</th>\n",
       "      <td>1077175</td>\n",
       "      <td>1313524</td>\n",
       "      <td>2400</td>\n",
       "      <td>2400</td>\n",
       "      <td>2400.0</td>\n",
       "      <td>36 months</td>\n",
       "      <td>15.96%</td>\n",
       "      <td>84.33</td>\n",
       "      <td>C</td>\n",
       "      <td>C5</td>\n",
       "      <td>...</td>\n",
       "      <td>NaN</td>\n",
       "      <td>May-16</td>\n",
       "      <td>0.0</td>\n",
       "      <td>1</td>\n",
       "      <td>INDIVIDUAL</td>\n",
       "      <td>0</td>\n",
       "      <td>0.0</td>\n",
       "      <td>0</td>\n",
       "      <td>0.0</td>\n",
       "      <td>0.0</td>\n",
       "    </tr>\n",
       "    <tr>\n",
       "      <th>3</th>\n",
       "      <td>1076863</td>\n",
       "      <td>1277178</td>\n",
       "      <td>10000</td>\n",
       "      <td>10000</td>\n",
       "      <td>10000.0</td>\n",
       "      <td>36 months</td>\n",
       "      <td>13.49%</td>\n",
       "      <td>339.31</td>\n",
       "      <td>C</td>\n",
       "      <td>C1</td>\n",
       "      <td>...</td>\n",
       "      <td>NaN</td>\n",
       "      <td>Apr-16</td>\n",
       "      <td>0.0</td>\n",
       "      <td>1</td>\n",
       "      <td>INDIVIDUAL</td>\n",
       "      <td>0</td>\n",
       "      <td>0.0</td>\n",
       "      <td>0</td>\n",
       "      <td>0.0</td>\n",
       "      <td>0.0</td>\n",
       "    </tr>\n",
       "    <tr>\n",
       "      <th>4</th>\n",
       "      <td>1075358</td>\n",
       "      <td>1311748</td>\n",
       "      <td>3000</td>\n",
       "      <td>3000</td>\n",
       "      <td>3000.0</td>\n",
       "      <td>60 months</td>\n",
       "      <td>12.69%</td>\n",
       "      <td>67.79</td>\n",
       "      <td>B</td>\n",
       "      <td>B5</td>\n",
       "      <td>...</td>\n",
       "      <td>Jun-16</td>\n",
       "      <td>May-16</td>\n",
       "      <td>0.0</td>\n",
       "      <td>1</td>\n",
       "      <td>INDIVIDUAL</td>\n",
       "      <td>0</td>\n",
       "      <td>0.0</td>\n",
       "      <td>0</td>\n",
       "      <td>0.0</td>\n",
       "      <td>0.0</td>\n",
       "    </tr>\n",
       "  </tbody>\n",
       "</table>\n",
       "<p>5 rows × 57 columns</p>\n",
       "</div>"
      ],
      "text/plain": [
       "        id  member_id  loan_amnt  funded_amnt  funded_amnt_inv        term  \\\n",
       "0  1077501    1296599       5000         5000           4975.0   36 months   \n",
       "1  1077430    1314167       2500         2500           2500.0   60 months   \n",
       "2  1077175    1313524       2400         2400           2400.0   36 months   \n",
       "3  1076863    1277178      10000        10000          10000.0   36 months   \n",
       "4  1075358    1311748       3000         3000           3000.0   60 months   \n",
       "\n",
       "  int_rate  installment grade sub_grade  ... next_pymnt_d last_credit_pull_d  \\\n",
       "0   10.65%       162.87     B        B2  ...          NaN             May-16   \n",
       "1   15.27%        59.83     C        C4  ...          NaN             Sep-13   \n",
       "2   15.96%        84.33     C        C5  ...          NaN             May-16   \n",
       "3   13.49%       339.31     C        C1  ...          NaN             Apr-16   \n",
       "4   12.69%        67.79     B        B5  ...       Jun-16             May-16   \n",
       "\n",
       "  collections_12_mths_ex_med  policy_code application_type acc_now_delinq  \\\n",
       "0                        0.0            1       INDIVIDUAL              0   \n",
       "1                        0.0            1       INDIVIDUAL              0   \n",
       "2                        0.0            1       INDIVIDUAL              0   \n",
       "3                        0.0            1       INDIVIDUAL              0   \n",
       "4                        0.0            1       INDIVIDUAL              0   \n",
       "\n",
       "  chargeoff_within_12_mths delinq_amnt pub_rec_bankruptcies tax_liens  \n",
       "0                      0.0           0                  0.0       0.0  \n",
       "1                      0.0           0                  0.0       0.0  \n",
       "2                      0.0           0                  0.0       0.0  \n",
       "3                      0.0           0                  0.0       0.0  \n",
       "4                      0.0           0                  0.0       0.0  \n",
       "\n",
       "[5 rows x 57 columns]"
      ]
     },
     "execution_count": 609,
     "metadata": {},
     "output_type": "execute_result"
    }
   ],
   "source": [
    "# New DF is having 57 columns after dropping columns with ALL EMPTY Elements.\n",
    "df1.head()"
   ]
  },
  {
   "cell_type": "code",
   "execution_count": 610,
   "metadata": {},
   "outputs": [],
   "source": [
    "# Dropping ID column as its redundant\n",
    "df1 = df1.drop(columns='id')\n",
    "# Removing columns :\"loan_amnt\" & \"funded_amnt\" since the column:\"funded_amnt_inv\" is the one which applicant is going get finally\n",
    "df1.drop(columns=['loan_amnt','funded_amnt'],inplace=True)\n",
    "#Payment plan has all same values as \"n\" and of no use\n",
    "df1.drop(columns=['pymnt_plan'],inplace=True)\n",
    "#URL and Desc dosent have any relacvent values for out analysis.\n",
    "df1.drop(columns=['url','desc'],inplace=True)\n",
    "#Title is redundant with purpose and title values are too generic and hence dropping\n",
    "df1.drop(columns=['title'],inplace=True)\n",
    "#For sanctioning loans delinquished data is of no use.Hence dropping \n",
    "df1.drop(columns=['delinq_2yrs'],inplace=True)\n",
    "#Revolving util has percentage about customer behavior variables.\n",
    "df1.drop(columns=['revol_bal'],inplace=True)\n",
    "# Since this column has redundant values as :\"f\". Not usefull column to retaain .Hence dropping\n",
    "df1.drop(columns=['initial_list_status'],inplace=True)\n",
    "# Most of the elements are EMPTY . We cannot impute or compute using any derivative metrics.Hence dropping.\n",
    "df1.drop(columns=['next_pymnt_d'],inplace=True)\n",
    "# All the value in these columns are ZERO or N/A not a usefull column. Hence dropping\n",
    "df1.drop(columns=['collections_12_mths_ex_med'],inplace=True)\n",
    "#Both the columns having redundant values and not usefull.Hence dropping .\n",
    "df1.drop(columns=['policy_code','application_type'],inplace=True)\n",
    "\n"
   ]
  },
  {
   "cell_type": "markdown",
   "metadata": {},
   "source": [
    "## Dropped 14 columns which are analysed to be redundant or not usefull for further analysis. "
   ]
  },
  {
   "cell_type": "code",
   "execution_count": 611,
   "metadata": {},
   "outputs": [
    {
     "data": {
      "text/plain": [
       "(39717, 43)"
      ]
     },
     "execution_count": 611,
     "metadata": {},
     "output_type": "execute_result"
    }
   ],
   "source": [
    "# DF now has 43 columns to analyze after dropping unwanted 14 columns as said above.\n",
    "df1.shape"
   ]
  },
  {
   "cell_type": "code",
   "execution_count": 612,
   "metadata": {},
   "outputs": [
    {
     "name": "stdout",
     "output_type": "stream",
     "text": [
      "<class 'pandas.core.frame.DataFrame'>\n",
      "RangeIndex: 39717 entries, 0 to 39716\n",
      "Data columns (total 43 columns):\n",
      " #   Column                    Non-Null Count  Dtype  \n",
      "---  ------                    --------------  -----  \n",
      " 0   member_id                 39717 non-null  int64  \n",
      " 1   funded_amnt_inv           39717 non-null  float64\n",
      " 2   term                      39717 non-null  object \n",
      " 3   int_rate                  39717 non-null  object \n",
      " 4   installment               39717 non-null  float64\n",
      " 5   grade                     39717 non-null  object \n",
      " 6   sub_grade                 39717 non-null  object \n",
      " 7   emp_title                 37258 non-null  object \n",
      " 8   emp_length                39717 non-null  object \n",
      " 9   home_ownership            39717 non-null  object \n",
      " 10  annual_inc                39717 non-null  float64\n",
      " 11  verification_status       39717 non-null  object \n",
      " 12  issue_d                   39717 non-null  object \n",
      " 13  loan_status               39717 non-null  object \n",
      " 14  purpose                   39717 non-null  object \n",
      " 15  zip_code                  39717 non-null  object \n",
      " 16  addr_state                39717 non-null  object \n",
      " 17  dti                       39717 non-null  float64\n",
      " 18  earliest_cr_line          39717 non-null  object \n",
      " 19  inq_last_6mths            39717 non-null  int64  \n",
      " 20  mths_since_last_delinq    14035 non-null  float64\n",
      " 21  mths_since_last_record    2786 non-null   float64\n",
      " 22  open_acc                  39717 non-null  int64  \n",
      " 23  pub_rec                   39717 non-null  int64  \n",
      " 24  revol_util                39667 non-null  object \n",
      " 25  total_acc                 39717 non-null  int64  \n",
      " 26  out_prncp                 39717 non-null  float64\n",
      " 27  out_prncp_inv             39717 non-null  float64\n",
      " 28  total_pymnt               39717 non-null  float64\n",
      " 29  total_pymnt_inv           39717 non-null  float64\n",
      " 30  total_rec_prncp           39717 non-null  float64\n",
      " 31  total_rec_int             39717 non-null  float64\n",
      " 32  total_rec_late_fee        39717 non-null  float64\n",
      " 33  recoveries                39717 non-null  float64\n",
      " 34  collection_recovery_fee   39717 non-null  float64\n",
      " 35  last_pymnt_d              39646 non-null  object \n",
      " 36  last_pymnt_amnt           39717 non-null  float64\n",
      " 37  last_credit_pull_d        39715 non-null  object \n",
      " 38  acc_now_delinq            39717 non-null  int64  \n",
      " 39  chargeoff_within_12_mths  39661 non-null  float64\n",
      " 40  delinq_amnt               39717 non-null  int64  \n",
      " 41  pub_rec_bankruptcies      39020 non-null  float64\n",
      " 42  tax_liens                 39678 non-null  float64\n",
      "dtypes: float64(19), int64(7), object(17)\n",
      "memory usage: 13.0+ MB\n"
     ]
    }
   ],
   "source": [
    "# analyze dtypes and non-null values of each column.\n",
    "# Here we get an idea on which coulumn is having NULL values if that column is consideerd as TARGET/Catagorical variable.\n",
    "df1.info()"
   ]
  },
  {
   "cell_type": "markdown",
   "metadata": {},
   "source": [
    "# Fixing Missing values"
   ]
  },
  {
   "cell_type": "code",
   "execution_count": 613,
   "metadata": {},
   "outputs": [
    {
     "data": {
      "text/plain": [
       "member_id                    0.000000\n",
       "funded_amnt_inv              0.000000\n",
       "term                         0.000000\n",
       "int_rate                     0.000000\n",
       "installment                  0.000000\n",
       "grade                        0.000000\n",
       "sub_grade                    0.000000\n",
       "emp_title                    6.191303\n",
       "emp_length                   0.000000\n",
       "home_ownership               0.000000\n",
       "annual_inc                   0.000000\n",
       "verification_status          0.000000\n",
       "issue_d                      0.000000\n",
       "loan_status                  0.000000\n",
       "purpose                      0.000000\n",
       "zip_code                     0.000000\n",
       "addr_state                   0.000000\n",
       "dti                          0.000000\n",
       "earliest_cr_line             0.000000\n",
       "inq_last_6mths               0.000000\n",
       "mths_since_last_delinq      64.662487\n",
       "mths_since_last_record      92.985372\n",
       "open_acc                     0.000000\n",
       "pub_rec                      0.000000\n",
       "revol_util                   0.125891\n",
       "total_acc                    0.000000\n",
       "out_prncp                    0.000000\n",
       "out_prncp_inv                0.000000\n",
       "total_pymnt                  0.000000\n",
       "total_pymnt_inv              0.000000\n",
       "total_rec_prncp              0.000000\n",
       "total_rec_int                0.000000\n",
       "total_rec_late_fee           0.000000\n",
       "recoveries                   0.000000\n",
       "collection_recovery_fee      0.000000\n",
       "last_pymnt_d                 0.178765\n",
       "last_pymnt_amnt              0.000000\n",
       "last_credit_pull_d           0.005036\n",
       "acc_now_delinq               0.000000\n",
       "chargeoff_within_12_mths     0.140998\n",
       "delinq_amnt                  0.000000\n",
       "pub_rec_bankruptcies         1.754916\n",
       "tax_liens                    0.098195\n",
       "dtype: float64"
      ]
     },
     "execution_count": 613,
     "metadata": {},
     "output_type": "execute_result"
    }
   ],
   "source": [
    "#Identify the missing values based on % \n",
    "df1.isnull().sum()*100/len(df)"
   ]
  },
  {
   "cell_type": "code",
   "execution_count": 614,
   "metadata": {},
   "outputs": [],
   "source": [
    "#Dropping :\"mths_since_last_delinq\" & \"mths_since_last_record\" after above analysis.\n",
    "# More than 60% of elements are missing .Better to drop rather than extrapolation.\n",
    "df1.drop(columns=['mths_since_last_delinq','mths_since_last_record'],inplace=True)"
   ]
  },
  {
   "cell_type": "code",
   "execution_count": 615,
   "metadata": {},
   "outputs": [
    {
     "data": {
      "text/plain": [
       "(39717, 41)"
      ]
     },
     "execution_count": 615,
     "metadata": {},
     "output_type": "execute_result"
    }
   ],
   "source": [
    "df1.shape"
   ]
  },
  {
   "cell_type": "code",
   "execution_count": 616,
   "metadata": {},
   "outputs": [
    {
     "data": {
      "text/plain": [
       "member_id                   0.000000\n",
       "funded_amnt_inv             0.000000\n",
       "term                        0.000000\n",
       "int_rate                    0.000000\n",
       "installment                 0.000000\n",
       "grade                       0.000000\n",
       "sub_grade                   0.000000\n",
       "emp_title                   6.191303\n",
       "emp_length                  0.000000\n",
       "home_ownership              0.000000\n",
       "annual_inc                  0.000000\n",
       "verification_status         0.000000\n",
       "issue_d                     0.000000\n",
       "loan_status                 0.000000\n",
       "purpose                     0.000000\n",
       "zip_code                    0.000000\n",
       "addr_state                  0.000000\n",
       "dti                         0.000000\n",
       "earliest_cr_line            0.000000\n",
       "inq_last_6mths              0.000000\n",
       "open_acc                    0.000000\n",
       "pub_rec                     0.000000\n",
       "revol_util                  0.125891\n",
       "total_acc                   0.000000\n",
       "out_prncp                   0.000000\n",
       "out_prncp_inv               0.000000\n",
       "total_pymnt                 0.000000\n",
       "total_pymnt_inv             0.000000\n",
       "total_rec_prncp             0.000000\n",
       "total_rec_int               0.000000\n",
       "total_rec_late_fee          0.000000\n",
       "recoveries                  0.000000\n",
       "collection_recovery_fee     0.000000\n",
       "last_pymnt_d                0.178765\n",
       "last_pymnt_amnt             0.000000\n",
       "last_credit_pull_d          0.005036\n",
       "acc_now_delinq              0.000000\n",
       "chargeoff_within_12_mths    0.140998\n",
       "delinq_amnt                 0.000000\n",
       "pub_rec_bankruptcies        1.754916\n",
       "tax_liens                   0.098195\n",
       "dtype: float64"
      ]
     },
     "execution_count": 616,
     "metadata": {},
     "output_type": "execute_result"
    }
   ],
   "source": [
    "df1.isnull().sum()*100/len(df)\n",
    "# After filtering out the columns which HIGH number of missing(>50%).\n",
    "# Below are the final DF columns for further analysis."
   ]
  },
  {
   "cell_type": "markdown",
   "metadata": {},
   "source": [
    "### As per above %  of missing valus : \"emp_title\" column can be neglected from analysis.\n",
    "### Since the mising value % is very less for Col: \"revol_util\".\n",
    "### Missing value imputation is performed on \"revol_util\" using mode value and removing % symbol to derive min/max and IQR."
   ]
  },
  {
   "cell_type": "code",
   "execution_count": 617,
   "metadata": {},
   "outputs": [],
   "source": [
    "#Use fillna to fill missing values with mode value form the same column: \"revol_util\"\n",
    "df1.revol_util = df1.revol_util.fillna(df1.revol_util.mode()[0])"
   ]
  },
  {
   "cell_type": "code",
   "execution_count": 618,
   "metadata": {},
   "outputs": [],
   "source": [
    "df1.revol_util = df1.revol_util.apply(lambda x : float(x[:-1]))"
   ]
  },
  {
   "cell_type": "code",
   "execution_count": 619,
   "metadata": {},
   "outputs": [
    {
     "data": {
      "text/plain": [
       "count    39717.000000\n",
       "mean        48.770677\n",
       "std         28.367689\n",
       "min          0.000000\n",
       "25%         25.300000\n",
       "50%         49.200000\n",
       "75%         72.300000\n",
       "max         99.900000\n",
       "Name: revol_util, dtype: float64"
      ]
     },
     "execution_count": 619,
     "metadata": {},
     "output_type": "execute_result"
    }
   ],
   "source": [
    "df1.revol_util.describe()"
   ]
  },
  {
   "cell_type": "code",
   "execution_count": 620,
   "metadata": {},
   "outputs": [
    {
     "data": {
      "text/plain": [
       "55.414094544162126"
      ]
     },
     "execution_count": 620,
     "metadata": {},
     "output_type": "execute_result"
    }
   ],
   "source": [
    "df1[df1.loan_status=='Charged Off'].revol_util.mean()"
   ]
  },
  {
   "cell_type": "code",
   "execution_count": 621,
   "metadata": {},
   "outputs": [
    {
     "data": {
      "text/plain": [
       "count    5627.000000\n",
       "mean       55.414095\n",
       "std        28.022277\n",
       "min         0.000000\n",
       "25%        34.300000\n",
       "50%        58.200000\n",
       "75%        78.950000\n",
       "max        99.900000\n",
       "Name: revol_util, dtype: float64"
      ]
     },
     "execution_count": 621,
     "metadata": {},
     "output_type": "execute_result"
    }
   ],
   "source": [
    "df1[df1.loan_status=='Charged Off'].revol_util.describe()"
   ]
  },
  {
   "cell_type": "code",
   "execution_count": 622,
   "metadata": {},
   "outputs": [
    {
     "data": {
      "text/plain": [
       "count    5627.000000\n",
       "mean       55.414095\n",
       "std        28.022277\n",
       "min         0.000000\n",
       "25%        34.300000\n",
       "50%        58.200000\n",
       "75%        78.950000\n",
       "max        99.900000\n",
       "Name: revol_util, dtype: float64"
      ]
     },
     "execution_count": 622,
     "metadata": {},
     "output_type": "execute_result"
    }
   ],
   "source": [
    "df1[df1.loan_status=='Charged Off'].revol_util.describe()"
   ]
  },
  {
   "cell_type": "code",
   "execution_count": 623,
   "metadata": {},
   "outputs": [
    {
     "data": {
      "text/plain": [
       "<matplotlib.axes._subplots.AxesSubplot at 0x7fa710149310>"
      ]
     },
     "execution_count": 623,
     "metadata": {},
     "output_type": "execute_result"
    },
    {
     "data": {
      "image/png": "[encoded data removed]",
      "text/plain": [
       "<Figure size 432x288 with 1 Axes>"
      ]
     },
     "metadata": {
      "needs_background": "light"
     },
     "output_type": "display_data"
    }
   ],
   "source": [
    "df1[df1.loan_status=='Charged Off'].revol_util.plot.box()"
   ]
  },
  {
   "cell_type": "code",
   "execution_count": 624,
   "metadata": {},
   "outputs": [
    {
     "data": {
      "text/plain": [
       "<matplotlib.axes._subplots.AxesSubplot at 0x7fa7105ebbe0>"
      ]
     },
     "execution_count": 624,
     "metadata": {},
     "output_type": "execute_result"
    },
    {
     "data": {
      "image/png": "[encoded data removed]",
      "text/plain": [
       "<Figure size 432x288 with 1 Axes>"
      ]
     },
     "metadata": {
      "needs_background": "light"
     },
     "output_type": "display_data"
    }
   ],
   "source": [
    "df1[df1.loan_status=='Charged Off'].revol_util.plot.hist(edgecolor='w')\n",
    "#Based on below HISTOGRAM plot its evident that the number of \"charged-off\" applicants increases with \"revol_util\" % increment.\n",
    " "
   ]
  },
  {
   "cell_type": "markdown",
   "metadata": {},
   "source": [
    "### Based on the above HISTOGRAM plot its evident that the number of \"charged-off\" applicants increases with \"revol_util\" % increment."
   ]
  },
  {
   "cell_type": "markdown",
   "metadata": {},
   "source": [
    "# Standardising Values"
   ]
  },
  {
   "cell_type": "code",
   "execution_count": 625,
   "metadata": {},
   "outputs": [
    {
     "data": {
      "text/plain": [
       "array([' 36 months', ' 60 months'], dtype=object)"
      ]
     },
     "execution_count": 625,
     "metadata": {},
     "output_type": "execute_result"
    }
   ],
   "source": [
    "#Converting TERM column to NUMERIC with number of months alone.\n",
    "df1.term.unique()"
   ]
  },
  {
   "cell_type": "code",
   "execution_count": 626,
   "metadata": {},
   "outputs": [
    {
     "data": {
      "text/plain": [
       " 36 months    29096\n",
       " 60 months    10621\n",
       "Name: term, dtype: int64"
      ]
     },
     "execution_count": 626,
     "metadata": {},
     "output_type": "execute_result"
    }
   ],
   "source": [
    "# To see number of each months type distribution\n",
    "# Here its show 36 months borrowers are more compared with 60 months.\n",
    "df1.term.value_counts()"
   ]
  },
  {
   "cell_type": "code",
   "execution_count": 627,
   "metadata": {},
   "outputs": [
    {
     "data": {
      "text/plain": [
       "dtype('O')"
      ]
     },
     "execution_count": 627,
     "metadata": {},
     "output_type": "execute_result"
    }
   ],
   "source": [
    "df1.term.dtypes"
   ]
  },
  {
   "cell_type": "code",
   "execution_count": 628,
   "metadata": {},
   "outputs": [],
   "source": [
    "# function to remove months string from the column.\n",
    "df1.term = df1.term.apply(lambda x : int(x[:3]) )"
   ]
  },
  {
   "cell_type": "code",
   "execution_count": 629,
   "metadata": {},
   "outputs": [
    {
     "data": {
      "text/plain": [
       "36    29096\n",
       "60    10621\n",
       "Name: term, dtype: int64"
      ]
     },
     "execution_count": 629,
     "metadata": {},
     "output_type": "execute_result"
    }
   ],
   "source": [
    "#value_counts will not have months string now \n",
    "df1.term.value_counts()"
   ]
  },
  {
   "cell_type": "code",
   "execution_count": 630,
   "metadata": {},
   "outputs": [
    {
     "data": {
      "text/plain": [
       "array([36, 60])"
      ]
     },
     "execution_count": 630,
     "metadata": {},
     "output_type": "execute_result"
    }
   ],
   "source": [
    "df1.term.unique()"
   ]
  },
  {
   "cell_type": "code",
   "execution_count": 631,
   "metadata": {},
   "outputs": [
    {
     "data": {
      "text/plain": [
       "dtype('int64')"
      ]
     },
     "execution_count": 631,
     "metadata": {},
     "output_type": "execute_result"
    }
   ],
   "source": [
    "df1.term.dtypes"
   ]
  },
  {
   "cell_type": "code",
   "execution_count": 632,
   "metadata": {},
   "outputs": [
    {
     "data": {
      "text/html": [
       "<div>\n",
       "<style scoped>\n",
       "    .dataframe tbody tr th:only-of-type {\n",
       "        vertical-align: middle;\n",
       "    }\n",
       "\n",
       "    .dataframe tbody tr th {\n",
       "        vertical-align: top;\n",
       "    }\n",
       "\n",
       "    .dataframe thead th {\n",
       "        text-align: right;\n",
       "    }\n",
       "</style>\n",
       "<table border=\"1\" class=\"dataframe\">\n",
       "  <thead>\n",
       "    <tr style=\"text-align: right;\">\n",
       "      <th></th>\n",
       "      <th>member_id</th>\n",
       "      <th>funded_amnt_inv</th>\n",
       "      <th>term</th>\n",
       "      <th>int_rate</th>\n",
       "      <th>installment</th>\n",
       "      <th>grade</th>\n",
       "      <th>sub_grade</th>\n",
       "      <th>emp_title</th>\n",
       "      <th>emp_length</th>\n",
       "      <th>home_ownership</th>\n",
       "      <th>...</th>\n",
       "      <th>recoveries</th>\n",
       "      <th>collection_recovery_fee</th>\n",
       "      <th>last_pymnt_d</th>\n",
       "      <th>last_pymnt_amnt</th>\n",
       "      <th>last_credit_pull_d</th>\n",
       "      <th>acc_now_delinq</th>\n",
       "      <th>chargeoff_within_12_mths</th>\n",
       "      <th>delinq_amnt</th>\n",
       "      <th>pub_rec_bankruptcies</th>\n",
       "      <th>tax_liens</th>\n",
       "    </tr>\n",
       "  </thead>\n",
       "  <tbody>\n",
       "    <tr>\n",
       "      <th>0</th>\n",
       "      <td>1296599</td>\n",
       "      <td>4975.0</td>\n",
       "      <td>36</td>\n",
       "      <td>10.65%</td>\n",
       "      <td>162.87</td>\n",
       "      <td>B</td>\n",
       "      <td>B2</td>\n",
       "      <td>NaN</td>\n",
       "      <td>10+ years</td>\n",
       "      <td>RENT</td>\n",
       "      <td>...</td>\n",
       "      <td>0.00</td>\n",
       "      <td>0.00</td>\n",
       "      <td>Jan-15</td>\n",
       "      <td>171.62</td>\n",
       "      <td>May-16</td>\n",
       "      <td>0</td>\n",
       "      <td>0.0</td>\n",
       "      <td>0</td>\n",
       "      <td>0.0</td>\n",
       "      <td>0.0</td>\n",
       "    </tr>\n",
       "    <tr>\n",
       "      <th>1</th>\n",
       "      <td>1314167</td>\n",
       "      <td>2500.0</td>\n",
       "      <td>60</td>\n",
       "      <td>15.27%</td>\n",
       "      <td>59.83</td>\n",
       "      <td>C</td>\n",
       "      <td>C4</td>\n",
       "      <td>Ryder</td>\n",
       "      <td>&lt; 1 year</td>\n",
       "      <td>RENT</td>\n",
       "      <td>...</td>\n",
       "      <td>117.08</td>\n",
       "      <td>1.11</td>\n",
       "      <td>Apr-13</td>\n",
       "      <td>119.66</td>\n",
       "      <td>Sep-13</td>\n",
       "      <td>0</td>\n",
       "      <td>0.0</td>\n",
       "      <td>0</td>\n",
       "      <td>0.0</td>\n",
       "      <td>0.0</td>\n",
       "    </tr>\n",
       "    <tr>\n",
       "      <th>2</th>\n",
       "      <td>1313524</td>\n",
       "      <td>2400.0</td>\n",
       "      <td>36</td>\n",
       "      <td>15.96%</td>\n",
       "      <td>84.33</td>\n",
       "      <td>C</td>\n",
       "      <td>C5</td>\n",
       "      <td>NaN</td>\n",
       "      <td>10+ years</td>\n",
       "      <td>RENT</td>\n",
       "      <td>...</td>\n",
       "      <td>0.00</td>\n",
       "      <td>0.00</td>\n",
       "      <td>Jun-14</td>\n",
       "      <td>649.91</td>\n",
       "      <td>May-16</td>\n",
       "      <td>0</td>\n",
       "      <td>0.0</td>\n",
       "      <td>0</td>\n",
       "      <td>0.0</td>\n",
       "      <td>0.0</td>\n",
       "    </tr>\n",
       "    <tr>\n",
       "      <th>3</th>\n",
       "      <td>1277178</td>\n",
       "      <td>10000.0</td>\n",
       "      <td>36</td>\n",
       "      <td>13.49%</td>\n",
       "      <td>339.31</td>\n",
       "      <td>C</td>\n",
       "      <td>C1</td>\n",
       "      <td>AIR RESOURCES BOARD</td>\n",
       "      <td>10+ years</td>\n",
       "      <td>RENT</td>\n",
       "      <td>...</td>\n",
       "      <td>0.00</td>\n",
       "      <td>0.00</td>\n",
       "      <td>Jan-15</td>\n",
       "      <td>357.48</td>\n",
       "      <td>Apr-16</td>\n",
       "      <td>0</td>\n",
       "      <td>0.0</td>\n",
       "      <td>0</td>\n",
       "      <td>0.0</td>\n",
       "      <td>0.0</td>\n",
       "    </tr>\n",
       "    <tr>\n",
       "      <th>4</th>\n",
       "      <td>1311748</td>\n",
       "      <td>3000.0</td>\n",
       "      <td>60</td>\n",
       "      <td>12.69%</td>\n",
       "      <td>67.79</td>\n",
       "      <td>B</td>\n",
       "      <td>B5</td>\n",
       "      <td>University Medical Group</td>\n",
       "      <td>1 year</td>\n",
       "      <td>RENT</td>\n",
       "      <td>...</td>\n",
       "      <td>0.00</td>\n",
       "      <td>0.00</td>\n",
       "      <td>May-16</td>\n",
       "      <td>67.79</td>\n",
       "      <td>May-16</td>\n",
       "      <td>0</td>\n",
       "      <td>0.0</td>\n",
       "      <td>0</td>\n",
       "      <td>0.0</td>\n",
       "      <td>0.0</td>\n",
       "    </tr>\n",
       "  </tbody>\n",
       "</table>\n",
       "<p>5 rows × 41 columns</p>\n",
       "</div>"
      ],
      "text/plain": [
       "   member_id  funded_amnt_inv  term int_rate  installment grade sub_grade  \\\n",
       "0    1296599           4975.0    36   10.65%       162.87     B        B2   \n",
       "1    1314167           2500.0    60   15.27%        59.83     C        C4   \n",
       "2    1313524           2400.0    36   15.96%        84.33     C        C5   \n",
       "3    1277178          10000.0    36   13.49%       339.31     C        C1   \n",
       "4    1311748           3000.0    60   12.69%        67.79     B        B5   \n",
       "\n",
       "                  emp_title emp_length home_ownership  ...  recoveries  \\\n",
       "0                       NaN  10+ years           RENT  ...        0.00   \n",
       "1                     Ryder   < 1 year           RENT  ...      117.08   \n",
       "2                       NaN  10+ years           RENT  ...        0.00   \n",
       "3       AIR RESOURCES BOARD  10+ years           RENT  ...        0.00   \n",
       "4  University Medical Group     1 year           RENT  ...        0.00   \n",
       "\n",
       "  collection_recovery_fee last_pymnt_d last_pymnt_amnt last_credit_pull_d  \\\n",
       "0                    0.00       Jan-15          171.62             May-16   \n",
       "1                    1.11       Apr-13          119.66             Sep-13   \n",
       "2                    0.00       Jun-14          649.91             May-16   \n",
       "3                    0.00       Jan-15          357.48             Apr-16   \n",
       "4                    0.00       May-16           67.79             May-16   \n",
       "\n",
       "  acc_now_delinq chargeoff_within_12_mths  delinq_amnt pub_rec_bankruptcies  \\\n",
       "0              0                      0.0            0                  0.0   \n",
       "1              0                      0.0            0                  0.0   \n",
       "2              0                      0.0            0                  0.0   \n",
       "3              0                      0.0            0                  0.0   \n",
       "4              0                      0.0            0                  0.0   \n",
       "\n",
       "   tax_liens  \n",
       "0        0.0  \n",
       "1        0.0  \n",
       "2        0.0  \n",
       "3        0.0  \n",
       "4        0.0  \n",
       "\n",
       "[5 rows x 41 columns]"
      ]
     },
     "execution_count": 632,
     "metadata": {},
     "output_type": "execute_result"
    }
   ],
   "source": [
    "df1.head()"
   ]
  },
  {
   "cell_type": "code",
   "execution_count": 633,
   "metadata": {},
   "outputs": [
    {
     "data": {
      "text/plain": [
       "10+ years    8879\n",
       "< 1 year     4583\n",
       "2 years      4388\n",
       "3 years      4095\n",
       "4 years      3436\n",
       "5 years      3282\n",
       "1 year       3240\n",
       "6 years      2229\n",
       "7 years      1773\n",
       "8 years      1479\n",
       "9 years      1258\n",
       "0            1075\n",
       "Name: emp_length, dtype: int64"
      ]
     },
     "execution_count": 633,
     "metadata": {},
     "output_type": "execute_result"
    }
   ],
   "source": [
    "#For emp_length column try removing 'years' string\n",
    "df1.emp_length.value_counts()"
   ]
  },
  {
   "cell_type": "code",
   "execution_count": 634,
   "metadata": {},
   "outputs": [
    {
     "data": {
      "text/plain": [
       "array(['10+ years', '< 1 year', '1 year', '3 years', '8 years', '9 years',\n",
       "       '4 years', '5 years', '6 years', '2 years', '7 years', '0'],\n",
       "      dtype=object)"
      ]
     },
     "execution_count": 634,
     "metadata": {},
     "output_type": "execute_result"
    }
   ],
   "source": [
    "df1.emp_length.unique()"
   ]
  },
  {
   "cell_type": "code",
   "execution_count": 635,
   "metadata": {},
   "outputs": [],
   "source": [
    "#We directly modified the string 'n/a' to '0' and usin below lambda functions to convert\n",
    "#the elements to equavalent FLOAT values \n",
    "df1.emp_length = df1.emp_length.apply(lambda x : float(0.9) if x == '< 1 year' else x) \n",
    "df1.emp_length = df1.emp_length.apply(lambda x : float(10.0) if x == '10+ years' else x)\n",
    "df1.emp_length = df1.emp_length.apply(lambda x : float(1.0) if x == '1 year' else x)\n",
    "df1.emp_length = df1.emp_length.apply(lambda x : float(0.0) if x == '0' else x)\n",
    "for i in [1,2,3,4,5,6,7,8,9]:\n",
    "    df1.emp_length = df1.emp_length.apply(lambda x : float(x.split(' ')[0]) if x == str(i) + ' years' else x)"
   ]
  },
  {
   "cell_type": "code",
   "execution_count": 636,
   "metadata": {},
   "outputs": [
    {
     "data": {
      "text/plain": [
       "10.0    8879\n",
       "0.9     4583\n",
       "2.0     4388\n",
       "3.0     4095\n",
       "4.0     3436\n",
       "5.0     3282\n",
       "1.0     3240\n",
       "6.0     2229\n",
       "7.0     1773\n",
       "8.0     1479\n",
       "9.0     1258\n",
       "0.0     1075\n",
       "Name: emp_length, dtype: int64"
      ]
     },
     "execution_count": 636,
     "metadata": {},
     "output_type": "execute_result"
    }
   ],
   "source": [
    "df1.emp_length.value_counts()\n",
    "# Values 1.0 till 10.0 are the years of experience\n",
    "# Where 0.9 is <1 Year and 10.0 is 10+ Years\n",
    "# 0.0 represents mostly business or unemployed"
   ]
  },
  {
   "cell_type": "code",
   "execution_count": 637,
   "metadata": {},
   "outputs": [
    {
     "data": {
      "text/plain": [
       "dtype('float64')"
      ]
     },
     "execution_count": 637,
     "metadata": {},
     "output_type": "execute_result"
    }
   ],
   "source": [
    "df1.emp_length.dtypes"
   ]
  },
  {
   "cell_type": "code",
   "execution_count": 638,
   "metadata": {},
   "outputs": [
    {
     "data": {
      "text/plain": [
       "dtype('float64')"
      ]
     },
     "execution_count": 638,
     "metadata": {},
     "output_type": "execute_result"
    }
   ],
   "source": [
    "df1.emp_length.dtypes"
   ]
  },
  {
   "cell_type": "code",
   "execution_count": 639,
   "metadata": {},
   "outputs": [
    {
     "data": {
      "text/plain": [
       "0        10.0\n",
       "1         0.9\n",
       "2        10.0\n",
       "3        10.0\n",
       "4         1.0\n",
       "         ... \n",
       "39712     4.0\n",
       "39713     3.0\n",
       "39714     0.9\n",
       "39715     0.9\n",
       "39716     0.9\n",
       "Name: emp_length, Length: 39717, dtype: float64"
      ]
     },
     "execution_count": 639,
     "metadata": {},
     "output_type": "execute_result"
    }
   ],
   "source": [
    "df1.emp_length\n",
    "#emp_length is converted to be FLOAT values as years."
   ]
  },
  {
   "cell_type": "code",
   "execution_count": 640,
   "metadata": {},
   "outputs": [
    {
     "data": {
      "text/plain": [
       "(39717,)"
      ]
     },
     "execution_count": 640,
     "metadata": {},
     "output_type": "execute_result"
    }
   ],
   "source": [
    "#After above data cleaning the number of ROWS stick to be the same as initial : 39717\n",
    "df1.emp_length.shape"
   ]
  },
  {
   "cell_type": "code",
   "execution_count": 641,
   "metadata": {},
   "outputs": [
    {
     "data": {
      "text/plain": [
       "Fully Paid     32950\n",
       "Charged Off     5627\n",
       "Current         1140\n",
       "Name: loan_status, dtype: int64"
      ]
     },
     "execution_count": 641,
     "metadata": {},
     "output_type": "execute_result"
    }
   ],
   "source": [
    "#Workin on loan_status column\n",
    "df1.loan_status.value_counts()"
   ]
  },
  {
   "cell_type": "code",
   "execution_count": 642,
   "metadata": {},
   "outputs": [
    {
     "data": {
      "text/plain": [
       "10.99%    956\n",
       "13.49%    826\n",
       "11.49%    825\n",
       "7.51%     787\n",
       "7.88%     725\n",
       "         ... \n",
       "16.15%      1\n",
       "22.64%      1\n",
       "16.01%      1\n",
       "17.44%      1\n",
       "18.72%      1\n",
       "Name: int_rate, Length: 371, dtype: int64"
      ]
     },
     "execution_count": 642,
     "metadata": {},
     "output_type": "execute_result"
    }
   ],
   "source": [
    "#Fixing \"int_rate\" column by removing % symbol for further analysis\n",
    "df1.int_rate.value_counts()"
   ]
  },
  {
   "cell_type": "code",
   "execution_count": 643,
   "metadata": {},
   "outputs": [
    {
     "data": {
      "text/plain": [
       "array(['10.65%', '15.27%', '15.96%', '13.49%', '12.69%', '7.90%',\n",
       "       '18.64%', '21.28%', '14.65%', '9.91%', '16.29%', '6.03%', '11.71%',\n",
       "       '12.42%', '14.27%', '16.77%', '7.51%', '8.90%', '18.25%', '6.62%',\n",
       "       '19.91%', '17.27%', '17.58%', '21.67%', '19.42%', '22.06%',\n",
       "       '20.89%', '20.30%', '23.91%', '19.03%', '23.52%', '23.13%',\n",
       "       '22.74%', '22.35%', '24.11%', '6.00%', '22.11%', '7.49%', '11.99%',\n",
       "       '5.99%', '10.99%', '9.99%', '18.79%', '11.49%', '8.49%', '15.99%',\n",
       "       '16.49%', '6.99%', '12.99%', '15.23%', '14.79%', '5.42%', '10.59%',\n",
       "       '17.49%', '15.62%', '21.36%', '19.29%', '13.99%', '18.39%',\n",
       "       '16.89%', '17.99%', '20.62%', '20.99%', '22.85%', '19.69%',\n",
       "       '20.25%', '23.22%', '21.74%', '22.48%', '23.59%', '12.62%',\n",
       "       '18.07%', '11.63%', '7.91%', '7.42%', '11.14%', '20.20%', '12.12%',\n",
       "       '19.39%', '16.11%', '17.54%', '22.64%', '13.84%', '16.59%',\n",
       "       '17.19%', '12.87%', '20.69%', '9.67%', '21.82%', '19.79%',\n",
       "       '18.49%', '22.94%', '24.59%', '24.40%', '21.48%', '14.82%',\n",
       "       '14.17%', '7.29%', '17.88%', '20.11%', '16.02%', '17.51%',\n",
       "       '13.43%', '14.91%', '13.06%', '15.28%', '15.65%', '17.14%',\n",
       "       '11.11%', '10.37%', '16.40%', '7.66%', '10.00%', '18.62%',\n",
       "       '10.74%', '5.79%', '6.92%', '9.63%', '14.54%', '12.68%', '19.36%',\n",
       "       '13.80%', '18.99%', '21.59%', '20.85%', '21.22%', '19.74%',\n",
       "       '20.48%', '6.91%', '12.23%', '12.61%', '10.36%', '6.17%', '6.54%',\n",
       "       '9.25%', '16.69%', '15.95%', '8.88%', '13.35%', '9.62%', '16.32%',\n",
       "       '12.98%', '14.83%', '13.72%', '14.09%', '14.46%', '20.03%',\n",
       "       '17.80%', '15.20%', '15.57%', '18.54%', '19.66%', '17.06%',\n",
       "       '18.17%', '17.43%', '20.40%', '20.77%', '18.91%', '21.14%',\n",
       "       '17.44%', '13.23%', '7.88%', '11.12%', '13.61%', '10.38%',\n",
       "       '17.56%', '17.93%', '15.58%', '13.98%', '14.84%', '15.21%',\n",
       "       '6.76%', '6.39%', '11.86%', '7.14%', '14.35%', '16.82%', '10.75%',\n",
       "       '14.72%', '16.45%', '18.67%', '20.53%', '19.41%', '20.16%',\n",
       "       '21.27%', '18.30%', '19.04%', '20.90%', '21.64%', '12.73%',\n",
       "       '10.25%', '13.11%', '10.62%', '13.48%', '14.59%', '16.07%',\n",
       "       '15.70%', '9.88%', '11.36%', '15.33%', '13.85%', '14.96%',\n",
       "       '14.22%', '7.74%', '13.22%', '13.57%', '8.59%', '17.04%', '14.61%',\n",
       "       '8.94%', '12.18%', '11.83%', '11.48%', '16.35%', '13.92%',\n",
       "       '15.31%', '14.26%', '19.13%', '12.53%', '16.70%', '16.00%',\n",
       "       '17.39%', '18.09%', '7.40%', '18.43%', '17.74%', '7.05%', '20.52%',\n",
       "       '20.86%', '19.47%', '18.78%', '21.21%', '19.82%', '20.17%',\n",
       "       '13.16%', '8.00%', '13.47%', '12.21%', '16.63%', '9.32%', '12.84%',\n",
       "       '11.26%', '15.68%', '15.37%', '10.95%', '11.89%', '14.11%',\n",
       "       '13.79%', '7.68%', '11.58%', '7.37%', '16.95%', '15.05%', '18.53%',\n",
       "       '14.74%', '14.42%', '18.21%', '17.26%', '18.84%', '17.90%',\n",
       "       '19.16%', '13.67%', '9.38%', '12.72%', '13.36%', '11.46%',\n",
       "       '10.51%', '9.07%', '13.04%', '11.78%', '12.41%', '10.83%',\n",
       "       '12.09%', '17.46%', '14.30%', '17.15%', '15.25%', '10.20%',\n",
       "       '15.88%', '14.93%', '16.20%', '18.72%', '14.62%', '8.32%',\n",
       "       '14.12%', '10.96%', '10.33%', '10.01%', '12.86%', '11.28%',\n",
       "       '11.59%', '8.63%', '12.54%', '12.22%', '11.91%', '15.38%',\n",
       "       '16.96%', '13.17%', '9.70%', '16.33%', '14.75%', '15.07%',\n",
       "       '16.01%', '10.71%', '10.64%', '9.76%', '11.34%', '10.39%',\n",
       "       '13.87%', '11.03%', '11.66%', '13.24%', '10.08%', '9.45%',\n",
       "       '13.55%', '12.29%', '11.97%', '12.92%', '15.45%', '14.50%',\n",
       "       '14.18%', '15.13%', '16.08%', '15.76%', '17.03%', '17.34%',\n",
       "       '16.71%', '9.83%', '13.62%', '10.46%', '9.51%', '9.20%', '13.30%',\n",
       "       '10.78%', '7.75%', '8.38%', '12.36%', '12.67%', '11.72%', '13.93%',\n",
       "       '8.07%', '7.43%', '12.04%', '14.25%', '14.88%', '11.41%', '11.09%',\n",
       "       '10.14%', '16.15%', '15.83%', '7.12%', '18.36%', '9.64%', '9.96%',\n",
       "       '11.22%', '9.01%', '9.33%', '11.54%', '12.17%', '12.80%', '14.38%',\n",
       "       '13.75%', '14.70%', '12.49%', '14.07%', '10.91%', '13.12%',\n",
       "       '10.28%', '8.70%', '14.67%', '15.01%'], dtype=object)"
      ]
     },
     "execution_count": 643,
     "metadata": {},
     "output_type": "execute_result"
    }
   ],
   "source": [
    "df1.int_rate.unique()"
   ]
  },
  {
   "cell_type": "code",
   "execution_count": 644,
   "metadata": {},
   "outputs": [],
   "source": [
    "#Using this lambda function converting \"int_rate\" column to FLOAT values.\n",
    "df1.int_rate = df1.int_rate.apply(lambda x : float(x[:-1]))"
   ]
  },
  {
   "cell_type": "code",
   "execution_count": 645,
   "metadata": {},
   "outputs": [
    {
     "data": {
      "text/plain": [
       "dtype('float64')"
      ]
     },
     "execution_count": 645,
     "metadata": {},
     "output_type": "execute_result"
    }
   ],
   "source": [
    "df1.int_rate.dtypes"
   ]
  },
  {
   "cell_type": "code",
   "execution_count": 646,
   "metadata": {},
   "outputs": [
    {
     "data": {
      "text/plain": [
       "array([10.65, 15.27, 15.96, 13.49, 12.69,  7.9 , 18.64, 21.28, 14.65,\n",
       "        9.91, 16.29,  6.03, 11.71, 12.42, 14.27, 16.77,  7.51,  8.9 ,\n",
       "       18.25,  6.62, 19.91, 17.27, 17.58, 21.67, 19.42, 22.06, 20.89,\n",
       "       20.3 , 23.91, 19.03, 23.52, 23.13, 22.74, 22.35, 24.11,  6.  ,\n",
       "       22.11,  7.49, 11.99,  5.99, 10.99,  9.99, 18.79, 11.49,  8.49,\n",
       "       15.99, 16.49,  6.99, 12.99, 15.23, 14.79,  5.42, 10.59, 17.49,\n",
       "       15.62, 21.36, 19.29, 13.99, 18.39, 16.89, 17.99, 20.62, 20.99,\n",
       "       22.85, 19.69, 20.25, 23.22, 21.74, 22.48, 23.59, 12.62, 18.07,\n",
       "       11.63,  7.91,  7.42, 11.14, 20.2 , 12.12, 19.39, 16.11, 17.54,\n",
       "       22.64, 13.84, 16.59, 17.19, 12.87, 20.69,  9.67, 21.82, 19.79,\n",
       "       18.49, 22.94, 24.59, 24.4 , 21.48, 14.82, 14.17,  7.29, 17.88,\n",
       "       20.11, 16.02, 17.51, 13.43, 14.91, 13.06, 15.28, 15.65, 17.14,\n",
       "       11.11, 10.37, 16.4 ,  7.66, 10.  , 18.62, 10.74,  5.79,  6.92,\n",
       "        9.63, 14.54, 12.68, 19.36, 13.8 , 18.99, 21.59, 20.85, 21.22,\n",
       "       19.74, 20.48,  6.91, 12.23, 12.61, 10.36,  6.17,  6.54,  9.25,\n",
       "       16.69, 15.95,  8.88, 13.35,  9.62, 16.32, 12.98, 14.83, 13.72,\n",
       "       14.09, 14.46, 20.03, 17.8 , 15.2 , 15.57, 18.54, 19.66, 17.06,\n",
       "       18.17, 17.43, 20.4 , 20.77, 18.91, 21.14, 17.44, 13.23,  7.88,\n",
       "       11.12, 13.61, 10.38, 17.56, 17.93, 15.58, 13.98, 14.84, 15.21,\n",
       "        6.76,  6.39, 11.86,  7.14, 14.35, 16.82, 10.75, 14.72, 16.45,\n",
       "       18.67, 20.53, 19.41, 20.16, 21.27, 18.3 , 19.04, 20.9 , 21.64,\n",
       "       12.73, 10.25, 13.11, 10.62, 13.48, 14.59, 16.07, 15.7 ,  9.88,\n",
       "       11.36, 15.33, 13.85, 14.96, 14.22,  7.74, 13.22, 13.57,  8.59,\n",
       "       17.04, 14.61,  8.94, 12.18, 11.83, 11.48, 16.35, 13.92, 15.31,\n",
       "       14.26, 19.13, 12.53, 16.7 , 16.  , 17.39, 18.09,  7.4 , 18.43,\n",
       "       17.74,  7.05, 20.52, 20.86, 19.47, 18.78, 21.21, 19.82, 20.17,\n",
       "       13.16,  8.  , 13.47, 12.21, 16.63,  9.32, 12.84, 11.26, 15.68,\n",
       "       15.37, 10.95, 11.89, 14.11, 13.79,  7.68, 11.58,  7.37, 16.95,\n",
       "       15.05, 18.53, 14.74, 14.42, 18.21, 17.26, 18.84, 17.9 , 19.16,\n",
       "       13.67,  9.38, 12.72, 13.36, 11.46, 10.51,  9.07, 13.04, 11.78,\n",
       "       12.41, 10.83, 12.09, 17.46, 14.3 , 17.15, 15.25, 10.2 , 15.88,\n",
       "       14.93, 16.2 , 18.72, 14.62,  8.32, 14.12, 10.96, 10.33, 10.01,\n",
       "       12.86, 11.28, 11.59,  8.63, 12.54, 12.22, 11.91, 15.38, 16.96,\n",
       "       13.17,  9.7 , 16.33, 14.75, 15.07, 16.01, 10.71, 10.64,  9.76,\n",
       "       11.34, 10.39, 13.87, 11.03, 11.66, 13.24, 10.08,  9.45, 13.55,\n",
       "       12.29, 11.97, 12.92, 15.45, 14.5 , 14.18, 15.13, 16.08, 15.76,\n",
       "       17.03, 17.34, 16.71,  9.83, 13.62, 10.46,  9.51,  9.2 , 13.3 ,\n",
       "       10.78,  7.75,  8.38, 12.36, 12.67, 11.72, 13.93,  8.07,  7.43,\n",
       "       12.04, 14.25, 14.88, 11.41, 11.09, 10.14, 16.15, 15.83,  7.12,\n",
       "       18.36,  9.64,  9.96, 11.22,  9.01,  9.33, 11.54, 12.17, 12.8 ,\n",
       "       14.38, 13.75, 14.7 , 12.49, 14.07, 10.91, 13.12, 10.28,  8.7 ,\n",
       "       14.67, 15.01])"
      ]
     },
     "execution_count": 646,
     "metadata": {},
     "output_type": "execute_result"
    }
   ],
   "source": [
    "df1.int_rate.unique()"
   ]
  },
  {
   "cell_type": "code",
   "execution_count": 647,
   "metadata": {},
   "outputs": [
    {
     "data": {
      "text/plain": [
       "count    39717.000000\n",
       "mean        12.021177\n",
       "std          3.724825\n",
       "min          5.420000\n",
       "25%          9.250000\n",
       "50%         11.860000\n",
       "75%         14.590000\n",
       "max         24.590000\n",
       "Name: int_rate, dtype: float64"
      ]
     },
     "execution_count": 647,
     "metadata": {},
     "output_type": "execute_result"
    }
   ],
   "source": [
    "#With this describe step we can confirm \"int_rate\" is converted properly to float\n",
    "df1.int_rate.describe()"
   ]
  },
  {
   "cell_type": "code",
   "execution_count": 648,
   "metadata": {},
   "outputs": [
    {
     "data": {
      "text/plain": [
       "array(['Dec-11', 'Nov-11', 'Oct-11', 'Sep-11', 'Aug-11', 'Jul-11',\n",
       "       'Jun-11', 'May-11', 'Apr-11', 'Mar-11', 'Feb-11', 'Jan-11',\n",
       "       'Dec-10', 'Nov-10', 'Oct-10', 'Sep-10', 'Aug-10', 'Jul-10',\n",
       "       'Jun-10', 'May-10', 'Apr-10', 'Mar-10', 'Feb-10', 'Jan-10',\n",
       "       'Dec-09', 'Nov-09', 'Oct-09', 'Sep-09', 'Aug-09', 'Jul-09',\n",
       "       'Jun-09', 'May-09', 'Apr-09', 'Mar-09', 'Feb-09', 'Jan-09',\n",
       "       'Dec-08', 'Nov-08', 'Oct-08', 'Sep-08', 'Aug-08', 'Jul-08',\n",
       "       'Jun-08', 'May-08', 'Apr-08', 'Mar-08', 'Feb-08', 'Jan-08',\n",
       "       'Dec-07', 'Nov-07', 'Oct-07', 'Sep-07', 'Aug-07', 'Jul-07',\n",
       "       'Jun-07'], dtype=object)"
      ]
     },
     "execution_count": 648,
     "metadata": {},
     "output_type": "execute_result"
    }
   ],
   "source": [
    "#Converting \"issue_d\" column to proper DATE format\n",
    "#pd.to_datetime(df1.issue_d)\n",
    "df1.issue_d.unique()"
   ]
  },
  {
   "cell_type": "code",
   "execution_count": 649,
   "metadata": {},
   "outputs": [],
   "source": [
    "#Correct the column \"issue_d\" to proper date time format\n",
    "# Manipulation of strings and Date to correct date format\n",
    "df1.issue_d = pd.to_datetime(df1.issue_d.str.upper(), format='%b-%y', yearfirst=False)"
   ]
  },
  {
   "cell_type": "code",
   "execution_count": 650,
   "metadata": {},
   "outputs": [
    {
     "data": {
      "text/plain": [
       "array(['2011-12-01T00:00:00.000000000', '2011-11-01T00:00:00.000000000',\n",
       "       '2011-10-01T00:00:00.000000000', '2011-09-01T00:00:00.000000000',\n",
       "       '2011-08-01T00:00:00.000000000', '2011-07-01T00:00:00.000000000',\n",
       "       '2011-06-01T00:00:00.000000000', '2011-05-01T00:00:00.000000000',\n",
       "       '2011-04-01T00:00:00.000000000', '2011-03-01T00:00:00.000000000',\n",
       "       '2011-02-01T00:00:00.000000000', '2011-01-01T00:00:00.000000000',\n",
       "       '2010-12-01T00:00:00.000000000', '2010-11-01T00:00:00.000000000',\n",
       "       '2010-10-01T00:00:00.000000000', '2010-09-01T00:00:00.000000000',\n",
       "       '2010-08-01T00:00:00.000000000', '2010-07-01T00:00:00.000000000',\n",
       "       '2010-06-01T00:00:00.000000000', '2010-05-01T00:00:00.000000000',\n",
       "       '2010-04-01T00:00:00.000000000', '2010-03-01T00:00:00.000000000',\n",
       "       '2010-02-01T00:00:00.000000000', '2010-01-01T00:00:00.000000000',\n",
       "       '2009-12-01T00:00:00.000000000', '2009-11-01T00:00:00.000000000',\n",
       "       '2009-10-01T00:00:00.000000000', '2009-09-01T00:00:00.000000000',\n",
       "       '2009-08-01T00:00:00.000000000', '2009-07-01T00:00:00.000000000',\n",
       "       '2009-06-01T00:00:00.000000000', '2009-05-01T00:00:00.000000000',\n",
       "       '2009-04-01T00:00:00.000000000', '2009-03-01T00:00:00.000000000',\n",
       "       '2009-02-01T00:00:00.000000000', '2009-01-01T00:00:00.000000000',\n",
       "       '2008-12-01T00:00:00.000000000', '2008-11-01T00:00:00.000000000',\n",
       "       '2008-10-01T00:00:00.000000000', '2008-09-01T00:00:00.000000000',\n",
       "       '2008-08-01T00:00:00.000000000', '2008-07-01T00:00:00.000000000',\n",
       "       '2008-06-01T00:00:00.000000000', '2008-05-01T00:00:00.000000000',\n",
       "       '2008-04-01T00:00:00.000000000', '2008-03-01T00:00:00.000000000',\n",
       "       '2008-02-01T00:00:00.000000000', '2008-01-01T00:00:00.000000000',\n",
       "       '2007-12-01T00:00:00.000000000', '2007-11-01T00:00:00.000000000',\n",
       "       '2007-10-01T00:00:00.000000000', '2007-09-01T00:00:00.000000000',\n",
       "       '2007-08-01T00:00:00.000000000', '2007-07-01T00:00:00.000000000',\n",
       "       '2007-06-01T00:00:00.000000000'], dtype='datetime64[ns]')"
      ]
     },
     "execution_count": 650,
     "metadata": {},
     "output_type": "execute_result"
    }
   ],
   "source": [
    "df1.issue_d.unique()"
   ]
  },
  {
   "cell_type": "code",
   "execution_count": 651,
   "metadata": {},
   "outputs": [],
   "source": [
    "# Derived Metric\n",
    "#Creating new column ISSUED_YEAR:\"issue_y\" column for accomidating only YEAR using the existing column:\"issue_d\"\n",
    "df1.issue_y = pd.DatetimeIndex(df1.issue_d).year"
   ]
  },
  {
   "cell_type": "code",
   "execution_count": 652,
   "metadata": {},
   "outputs": [
    {
     "data": {
      "text/plain": [
       "dtype('int64')"
      ]
     },
     "execution_count": 652,
     "metadata": {},
     "output_type": "execute_result"
    }
   ],
   "source": [
    "df1.issue_y.dtype"
   ]
  },
  {
   "cell_type": "code",
   "execution_count": 653,
   "metadata": {},
   "outputs": [
    {
     "data": {
      "text/plain": [
       "Int64Index([2011, 2010, 2009, 2008, 2007], dtype='int64', name='issue_d')"
      ]
     },
     "execution_count": 653,
     "metadata": {},
     "output_type": "execute_result"
    }
   ],
   "source": [
    "df1.issue_y.unique()"
   ]
  },
  {
   "cell_type": "markdown",
   "metadata": {},
   "source": [
    "# 1: Problem Statement"
   ]
  },
  {
   "attachments": {},
   "cell_type": "markdown",
   "metadata": {},
   "source": [
    "## Identifying potential charged-off applicants to reduce \"CREDIT LOSS\" to the company, Using columns:\"home_ownership/loan_status & funded_amnt_inv\"\n",
    "\n"
   ]
  },
  {
   "cell_type": "markdown",
   "metadata": {},
   "source": [
    "## Analysis Approach"
   ]
  },
  {
   "cell_type": "markdown",
   "metadata": {},
   "source": [
    "- Using CONSUMER ATTRIBUTE's :\"home_ownership\" as an index column and applying GROUPBY on LOAN ATTRIBUTE: \"loan_status\" column.\n",
    "- Finding the LOAN amount from charged-off category applicants by applying mean on \"funded_amnt_inv\"."
   ]
  },
  {
   "cell_type": "code",
   "execution_count": 654,
   "metadata": {},
   "outputs": [
    {
     "data": {
      "text/html": [
       "<div>\n",
       "<style scoped>\n",
       "    .dataframe tbody tr th:only-of-type {\n",
       "        vertical-align: middle;\n",
       "    }\n",
       "\n",
       "    .dataframe tbody tr th {\n",
       "        vertical-align: top;\n",
       "    }\n",
       "\n",
       "    .dataframe thead th {\n",
       "        text-align: right;\n",
       "    }\n",
       "</style>\n",
       "<table border=\"1\" class=\"dataframe\">\n",
       "  <thead>\n",
       "    <tr style=\"text-align: right;\">\n",
       "      <th>loan_status</th>\n",
       "      <th>Charged Off</th>\n",
       "      <th>Current</th>\n",
       "      <th>Fully Paid</th>\n",
       "    </tr>\n",
       "    <tr>\n",
       "      <th>home_ownership</th>\n",
       "      <th></th>\n",
       "      <th></th>\n",
       "      <th></th>\n",
       "    </tr>\n",
       "  </thead>\n",
       "  <tbody>\n",
       "    <tr>\n",
       "      <th>MORTGAGE</th>\n",
       "      <td>12534.848099</td>\n",
       "      <td>17669.228223</td>\n",
       "      <td>11356.479259</td>\n",
       "    </tr>\n",
       "    <tr>\n",
       "      <th>NONE</th>\n",
       "      <td>NaN</td>\n",
       "      <td>NaN</td>\n",
       "      <td>1592.686667</td>\n",
       "    </tr>\n",
       "    <tr>\n",
       "      <th>OTHER</th>\n",
       "      <td>9546.124229</td>\n",
       "      <td>NaN</td>\n",
       "      <td>6861.935402</td>\n",
       "    </tr>\n",
       "    <tr>\n",
       "      <th>OWN</th>\n",
       "      <td>9950.402801</td>\n",
       "      <td>14220.951805</td>\n",
       "      <td>9386.171501</td>\n",
       "    </tr>\n",
       "    <tr>\n",
       "      <th>RENT</th>\n",
       "      <td>9646.428774</td>\n",
       "      <td>14676.648628</td>\n",
       "      <td>9080.389198</td>\n",
       "    </tr>\n",
       "  </tbody>\n",
       "</table>\n",
       "</div>"
      ],
      "text/plain": [
       "loan_status      Charged Off       Current    Fully Paid\n",
       "home_ownership                                          \n",
       "MORTGAGE        12534.848099  17669.228223  11356.479259\n",
       "NONE                     NaN           NaN   1592.686667\n",
       "OTHER            9546.124229           NaN   6861.935402\n",
       "OWN              9950.402801  14220.951805   9386.171501\n",
       "RENT             9646.428774  14676.648628   9080.389198"
      ]
     },
     "execution_count": 654,
     "metadata": {},
     "output_type": "execute_result"
    }
   ],
   "source": [
    "\n",
    "pd.pivot_table(data=df1,index='home_ownership',columns='loan_status',values='funded_amnt_inv')"
   ]
  },
  {
   "cell_type": "markdown",
   "metadata": {},
   "source": [
    "## Analysis output  :"
   ]
  },
  {
   "cell_type": "markdown",
   "metadata": {},
   "source": [
    "- As per above analysis the charged-off loan amount is more from MORTGAE category applicants compared with others.\n",
    "- The tendency of giving higher LOAN using MORTGAGE is a +ve approach \n",
    "- As even if the applicant \"CHARGE-OFF\"(Run aways with out paying) there is always a gain from it.\n"
   ]
  },
  {
   "cell_type": "markdown",
   "metadata": {},
   "source": [
    "# 2: Problem Statement"
   ]
  },
  {
   "cell_type": "markdown",
   "metadata": {},
   "source": [
    "## To find what are the interest rates  CONSUMER BANK is gaining as per the type of LOAN Application..\n",
    "### Ex: Loan Sanction based on category as : RENT/MORTGAGE/OWN/Other's"
   ]
  },
  {
   "cell_type": "markdown",
   "metadata": {},
   "source": [
    "# Analysis Approach"
   ]
  },
  {
   "cell_type": "markdown",
   "metadata": {},
   "source": [
    "- BIVERIATE ANALYSIS ON TWO VARIABLES:Continous and Catagorical\n",
    "-  Using groupby on Catagorical column:\"home_ownership\" and plotting it against MEAN/MAX& MEDIAN of \"int_rate\" ."
   ]
  },
  {
   "cell_type": "code",
   "execution_count": 655,
   "metadata": {},
   "outputs": [
    {
     "data": {
      "text/plain": [
       "<matplotlib.axes._subplots.AxesSubplot at 0x7fa713e95f10>"
      ]
     },
     "execution_count": 655,
     "metadata": {},
     "output_type": "execute_result"
    },
    {
     "data": {
      "image/png": "[encoded data removed]",
      "text/plain": [
       "<Figure size 432x288 with 1 Axes>"
      ]
     },
     "metadata": {
      "needs_background": "light"
     },
     "output_type": "display_data"
    }
   ],
   "source": [
    "df1.groupby(['home_ownership'])['int_rate'].mean().plot.bar()"
   ]
  },
  {
   "cell_type": "code",
   "execution_count": 656,
   "metadata": {},
   "outputs": [
    {
     "data": {
      "text/plain": [
       "<matplotlib.axes._subplots.AxesSubplot at 0x7fa7159ff3d0>"
      ]
     },
     "execution_count": 656,
     "metadata": {},
     "output_type": "execute_result"
    },
    {
     "data": {
      "image/png": "[encoded data removed]",
      "text/plain": [
       "<Figure size 432x288 with 1 Axes>"
      ]
     },
     "metadata": {
      "needs_background": "light"
     },
     "output_type": "display_data"
    }
   ],
   "source": [
    "df1.groupby(['home_ownership'])['int_rate'].max().plot.bar()"
   ]
  },
  {
   "cell_type": "code",
   "execution_count": 657,
   "metadata": {},
   "outputs": [
    {
     "data": {
      "text/plain": [
       "<matplotlib.axes._subplots.AxesSubplot at 0x7fa714c19400>"
      ]
     },
     "execution_count": 657,
     "metadata": {},
     "output_type": "execute_result"
    },
    {
     "data": {
      "image/png": "[encoded data removed]",
      "text/plain": [
       "<Figure size 432x288 with 1 Axes>"
      ]
     },
     "metadata": {
      "needs_background": "light"
     },
     "output_type": "display_data"
    }
   ],
   "source": [
    "df1.groupby(['home_ownership'])['int_rate'].median().plot.bar()"
   ]
  },
  {
   "cell_type": "code",
   "execution_count": 658,
   "metadata": {},
   "outputs": [
    {
     "data": {
      "text/plain": [
       "<matplotlib.axes._subplots.AxesSubplot at 0x7fa71526d580>"
      ]
     },
     "execution_count": 658,
     "metadata": {},
     "output_type": "execute_result"
    },
    {
     "data": {
      "image/png": "[encoded data removed]",
      "text/plain": [
       "<Figure size 432x288 with 1 Axes>"
      ]
     },
     "metadata": {
      "needs_background": "light"
     },
     "output_type": "display_data"
    }
   ],
   "source": [
    "df1.groupby(['home_ownership'])['funded_amnt_inv'].mean().plot.bar()"
   ]
  },
  {
   "cell_type": "code",
   "execution_count": 659,
   "metadata": {},
   "outputs": [
    {
     "data": {
      "text/plain": [
       "<matplotlib.axes._subplots.AxesSubplot at 0x7fa713f18a90>"
      ]
     },
     "execution_count": 659,
     "metadata": {},
     "output_type": "execute_result"
    },
    {
     "data": {
      "image/png": "[encoded data removed]",
      "text/plain": [
       "<Figure size 432x288 with 1 Axes>"
      ]
     },
     "metadata": {
      "needs_background": "light"
     },
     "output_type": "display_data"
    }
   ],
   "source": [
    "df1.groupby(['home_ownership'])['funded_amnt_inv'].max().plot.bar()"
   ]
  },
  {
   "cell_type": "code",
   "execution_count": 660,
   "metadata": {},
   "outputs": [
    {
     "data": {
      "text/plain": [
       "<matplotlib.axes._subplots.AxesSubplot at 0x7fa714db5c40>"
      ]
     },
     "execution_count": 660,
     "metadata": {},
     "output_type": "execute_result"
    },
    {
     "data": {
      "image/png": "[encoded data removed]",
      "text/plain": [
       "<Figure size 432x288 with 1 Axes>"
      ]
     },
     "metadata": {
      "needs_background": "light"
     },
     "output_type": "display_data"
    }
   ],
   "source": [
    "df1.groupby(['home_ownership'])['funded_amnt_inv'].median().plot.bar()"
   ]
  },
  {
   "cell_type": "code",
   "execution_count": 661,
   "metadata": {},
   "outputs": [
    {
     "data": {
      "text/html": [
       "<div>\n",
       "<style scoped>\n",
       "    .dataframe tbody tr th:only-of-type {\n",
       "        vertical-align: middle;\n",
       "    }\n",
       "\n",
       "    .dataframe tbody tr th {\n",
       "        vertical-align: top;\n",
       "    }\n",
       "\n",
       "    .dataframe thead th {\n",
       "        text-align: right;\n",
       "    }\n",
       "</style>\n",
       "<table border=\"1\" class=\"dataframe\">\n",
       "  <thead>\n",
       "    <tr style=\"text-align: right;\">\n",
       "      <th></th>\n",
       "      <th>member_id</th>\n",
       "      <th>funded_amnt_inv</th>\n",
       "      <th>term</th>\n",
       "      <th>int_rate</th>\n",
       "      <th>installment</th>\n",
       "      <th>grade</th>\n",
       "      <th>sub_grade</th>\n",
       "      <th>emp_title</th>\n",
       "      <th>emp_length</th>\n",
       "      <th>home_ownership</th>\n",
       "      <th>...</th>\n",
       "      <th>recoveries</th>\n",
       "      <th>collection_recovery_fee</th>\n",
       "      <th>last_pymnt_d</th>\n",
       "      <th>last_pymnt_amnt</th>\n",
       "      <th>last_credit_pull_d</th>\n",
       "      <th>acc_now_delinq</th>\n",
       "      <th>chargeoff_within_12_mths</th>\n",
       "      <th>delinq_amnt</th>\n",
       "      <th>pub_rec_bankruptcies</th>\n",
       "      <th>tax_liens</th>\n",
       "    </tr>\n",
       "  </thead>\n",
       "  <tbody>\n",
       "    <tr>\n",
       "      <th>39318</th>\n",
       "      <td>214993</td>\n",
       "      <td>1228.06</td>\n",
       "      <td>36</td>\n",
       "      <td>7.75</td>\n",
       "      <td>312.22</td>\n",
       "      <td>A</td>\n",
       "      <td>A3</td>\n",
       "      <td>ups</td>\n",
       "      <td>5.0</td>\n",
       "      <td>NONE</td>\n",
       "      <td>...</td>\n",
       "      <td>0.0</td>\n",
       "      <td>0.0</td>\n",
       "      <td>Feb-11</td>\n",
       "      <td>313.59</td>\n",
       "      <td>Jan-11</td>\n",
       "      <td>0</td>\n",
       "      <td>0.0</td>\n",
       "      <td>0</td>\n",
       "      <td>NaN</td>\n",
       "      <td>0.0</td>\n",
       "    </tr>\n",
       "    <tr>\n",
       "      <th>39659</th>\n",
       "      <td>121574</td>\n",
       "      <td>1925.00</td>\n",
       "      <td>36</td>\n",
       "      <td>9.64</td>\n",
       "      <td>128.41</td>\n",
       "      <td>B</td>\n",
       "      <td>B4</td>\n",
       "      <td>NaN</td>\n",
       "      <td>0.9</td>\n",
       "      <td>NONE</td>\n",
       "      <td>...</td>\n",
       "      <td>0.0</td>\n",
       "      <td>0.0</td>\n",
       "      <td>Sep-10</td>\n",
       "      <td>129.76</td>\n",
       "      <td>Aug-07</td>\n",
       "      <td>0</td>\n",
       "      <td>NaN</td>\n",
       "      <td>0</td>\n",
       "      <td>NaN</td>\n",
       "      <td>NaN</td>\n",
       "    </tr>\n",
       "    <tr>\n",
       "      <th>39660</th>\n",
       "      <td>121373</td>\n",
       "      <td>1625.00</td>\n",
       "      <td>36</td>\n",
       "      <td>8.70</td>\n",
       "      <td>88.65</td>\n",
       "      <td>B</td>\n",
       "      <td>B1</td>\n",
       "      <td>NaN</td>\n",
       "      <td>0.9</td>\n",
       "      <td>NONE</td>\n",
       "      <td>...</td>\n",
       "      <td>0.0</td>\n",
       "      <td>0.0</td>\n",
       "      <td>Sep-10</td>\n",
       "      <td>89.80</td>\n",
       "      <td>Aug-07</td>\n",
       "      <td>0</td>\n",
       "      <td>NaN</td>\n",
       "      <td>0</td>\n",
       "      <td>NaN</td>\n",
       "      <td>NaN</td>\n",
       "    </tr>\n",
       "  </tbody>\n",
       "</table>\n",
       "<p>3 rows × 41 columns</p>\n",
       "</div>"
      ],
      "text/plain": [
       "       member_id  funded_amnt_inv  term  int_rate  installment grade  \\\n",
       "39318     214993          1228.06    36      7.75       312.22     A   \n",
       "39659     121574          1925.00    36      9.64       128.41     B   \n",
       "39660     121373          1625.00    36      8.70        88.65     B   \n",
       "\n",
       "      sub_grade emp_title  emp_length home_ownership  ...  recoveries  \\\n",
       "39318        A3       ups         5.0           NONE  ...         0.0   \n",
       "39659        B4       NaN         0.9           NONE  ...         0.0   \n",
       "39660        B1       NaN         0.9           NONE  ...         0.0   \n",
       "\n",
       "      collection_recovery_fee last_pymnt_d last_pymnt_amnt last_credit_pull_d  \\\n",
       "39318                     0.0       Feb-11          313.59             Jan-11   \n",
       "39659                     0.0       Sep-10          129.76             Aug-07   \n",
       "39660                     0.0       Sep-10           89.80             Aug-07   \n",
       "\n",
       "      acc_now_delinq chargeoff_within_12_mths  delinq_amnt  \\\n",
       "39318              0                      0.0            0   \n",
       "39659              0                      NaN            0   \n",
       "39660              0                      NaN            0   \n",
       "\n",
       "      pub_rec_bankruptcies  tax_liens  \n",
       "39318                  NaN        0.0  \n",
       "39659                  NaN        NaN  \n",
       "39660                  NaN        NaN  \n",
       "\n",
       "[3 rows x 41 columns]"
      ]
     },
     "execution_count": 661,
     "metadata": {},
     "output_type": "execute_result"
    }
   ],
   "source": [
    "df1[df1.home_ownership=='NONE']"
   ]
  },
  {
   "cell_type": "markdown",
   "metadata": {},
   "source": [
    "# Analysis output:"
   ]
  },
  {
   "cell_type": "markdown",
   "metadata": {},
   "source": [
    "- As per the above BIVERIATE analysis\n",
    "- The LOAN amount and the INTEREST rates given to NONE category applicants are less on an average, compard with\n",
    "other category applicants.\n",
    "- This looks like an approach to avoid charged-off applicants \n",
    "- When performing deep dive into the data to see NONE applicants . It observed that there are only THREE applicants part of that category.\n",
    "- Instead of considering this type , its better to ignore as an OUTLIER's category."
   ]
  },
  {
   "cell_type": "code",
   "execution_count": 662,
   "metadata": {},
   "outputs": [],
   "source": [
    "#plt.figure(figsize=[10,10])   #REMOVE"
   ]
  },
  {
   "cell_type": "code",
   "execution_count": 663,
   "metadata": {},
   "outputs": [],
   "source": [
    "import seaborn as sns"
   ]
  },
  {
   "cell_type": "code",
   "execution_count": 664,
   "metadata": {},
   "outputs": [],
   "source": [
    "#sns.pairplot(df1[['int_rate','funded_amnt_inv']])  #REMOVE\n",
    "#plt.show()"
   ]
  },
  {
   "cell_type": "code",
   "execution_count": null,
   "metadata": {},
   "outputs": [],
   "source": []
  },
  {
   "cell_type": "markdown",
   "metadata": {},
   "source": [
    "## 3: Problem Statement\n",
    "### Finding out the  driving factor which is leading applicant's into CHARGED-OFF state, Using columns:''Charged Off/purpose/dti\""
   ]
  },
  {
   "cell_type": "markdown",
   "metadata": {},
   "source": [
    "# Analysis Approach"
   ]
  },
  {
   "cell_type": "markdown",
   "metadata": {},
   "source": [
    "### BI VERIATE ANALYSIS: col1:CHARGED-OFF && col2:purpose\n",
    "\n",
    "- First by applying a filter to get CHARGED-OFF applicants data alone, using the categorical variable:\"Charged Off\"\n",
    "- Using another categorical variable :\"PURPOSE\" derive value counts distribution.\n",
    "- Applying BAR plot on the value_counts() gives us the spread on the driving factor ,Here its \"purpose\". "
   ]
  },
  {
   "cell_type": "code",
   "execution_count": 665,
   "metadata": {},
   "outputs": [],
   "source": [
    "#get dataframe for charged-off applicants alone: df2.\n",
    "df2 = df1[df1.loan_status =='Charged Off']"
   ]
  },
  {
   "cell_type": "code",
   "execution_count": 666,
   "metadata": {},
   "outputs": [
    {
     "data": {
      "text/plain": [
       "debt_consolidation    2767\n",
       "other                  633\n",
       "credit_card            542\n",
       "small_business         475\n",
       "home_improvement       347\n",
       "major_purchase         222\n",
       "car                    160\n",
       "medical                106\n",
       "wedding                 96\n",
       "moving                  92\n",
       "house                   59\n",
       "educational             56\n",
       "vacation                53\n",
       "renewable_energy        19\n",
       "Name: purpose, dtype: int64"
      ]
     },
     "execution_count": 666,
     "metadata": {},
     "output_type": "execute_result"
    }
   ],
   "source": [
    "#On the derived DATA FRAM:,df2 fetch spread of target variable using vlaue_counts.\n",
    "#Since its a categorical variale to plot a graph its possible to do using value_counts.\n",
    "df2.purpose.value_counts()"
   ]
  },
  {
   "cell_type": "code",
   "execution_count": 667,
   "metadata": {},
   "outputs": [
    {
     "data": {
      "text/plain": [
       "<matplotlib.axes._subplots.AxesSubplot at 0x7fa715b127c0>"
      ]
     },
     "execution_count": 667,
     "metadata": {},
     "output_type": "execute_result"
    },
    {
     "data": {
      "image/png": "[encoded data removed]",
      "text/plain": [
       "<Figure size 432x288 with 1 Axes>"
      ]
     },
     "metadata": {
      "needs_background": "light"
     },
     "output_type": "display_data"
    }
   ],
   "source": [
    "# Plotting the bar graph ideltifying the spread of driving_factor:purpose\n",
    "df2.purpose.value_counts().plot.bar()"
   ]
  },
  {
   "cell_type": "markdown",
   "metadata": {},
   "source": [
    "## Analysis Output:1"
   ]
  },
  {
   "cell_type": "markdown",
   "metadata": {},
   "source": [
    "### Observed a pattern that , Purpose category of type:debt_consolidation/other/credit_card are having major share on charged_off  "
   ]
  },
  {
   "cell_type": "code",
   "execution_count": 668,
   "metadata": {},
   "outputs": [],
   "source": [
    "#pd.pivot_table(data=df2,index='loan_status',columns='purpose',values='dti').plot.hist() #Remove"
   ]
  },
  {
   "cell_type": "code",
   "execution_count": 669,
   "metadata": {},
   "outputs": [
    {
     "data": {
      "text/plain": [
       "count    5627.000000\n",
       "mean       14.000624\n",
       "std         6.585577\n",
       "min         0.000000\n",
       "25%         9.050000\n",
       "50%        14.290000\n",
       "75%        19.290000\n",
       "max        29.850000\n",
       "Name: dti, dtype: float64"
      ]
     },
     "execution_count": 669,
     "metadata": {},
     "output_type": "execute_result"
    }
   ],
   "source": [
    "df2.dti.describe()"
   ]
  },
  {
   "cell_type": "code",
   "execution_count": 670,
   "metadata": {},
   "outputs": [],
   "source": [
    "\n",
    "#df2.dti.value_counts().plot.bar()"
   ]
  },
  {
   "cell_type": "code",
   "execution_count": 671,
   "metadata": {},
   "outputs": [],
   "source": [
    "df2[\"dti_bucket\"] = pd.qcut(df1.dti, [0, 0.25, 0.50, 0.75, 1 ], [\"L\",\"M\",\"H\",\"VH\"])"
   ]
  },
  {
   "cell_type": "code",
   "execution_count": 672,
   "metadata": {},
   "outputs": [
    {
     "data": {
      "text/plain": [
       "VH    1601\n",
       "H     1489\n",
       "M     1340\n",
       "L     1197\n",
       "Name: dti_bucket, dtype: int64"
      ]
     },
     "execution_count": 672,
     "metadata": {},
     "output_type": "execute_result"
    }
   ],
   "source": [
    "df2.dti_bucket.value_counts()"
   ]
  },
  {
   "cell_type": "code",
   "execution_count": 673,
   "metadata": {},
   "outputs": [
    {
     "data": {
      "text/plain": [
       "<matplotlib.axes._subplots.AxesSubplot at 0x7fa7152fc1f0>"
      ]
     },
     "execution_count": 673,
     "metadata": {},
     "output_type": "execute_result"
    },
    {
     "data": {
      "image/png": "[encoded data removed]",
      "text/plain": [
       "<Figure size 432x288 with 1 Axes>"
      ]
     },
     "metadata": {
      "needs_background": "light"
     },
     "output_type": "display_data"
    }
   ],
   "source": [
    "df2.dti_bucket.value_counts().plot.bar()"
   ]
  },
  {
   "cell_type": "markdown",
   "metadata": {},
   "source": [
    "## Analysis Output:2\n",
    "### As per the above PLOT the probability of charged-off applicants is increasing along with the raise in DTI ratio."
   ]
  },
  {
   "cell_type": "markdown",
   "metadata": {},
   "source": [
    "## 4: Problem Statement"
   ]
  },
  {
   "cell_type": "markdown",
   "metadata": {},
   "source": [
    "### Analysing the number of 'charged-off' applicants w.r.t year of loan sanctioned."
   ]
  },
  {
   "cell_type": "code",
   "execution_count": 674,
   "metadata": {},
   "outputs": [
    {
     "data": {
      "text/plain": [
       "(39717, 41)"
      ]
     },
     "execution_count": 674,
     "metadata": {},
     "output_type": "execute_result"
    }
   ],
   "source": [
    "df1.shape\n",
    "#First analyse the shape of DF. Number of columns are 41"
   ]
  },
  {
   "cell_type": "code",
   "execution_count": 675,
   "metadata": {},
   "outputs": [],
   "source": [
    "#Deriving a new derived variable('issue_year') of type \"INTERVAL\" from ('issue_year') column.\n",
    "df1['issue_year'] = pd.DatetimeIndex(df1.issue_d).year"
   ]
  },
  {
   "cell_type": "code",
   "execution_count": 676,
   "metadata": {},
   "outputs": [
    {
     "data": {
      "text/plain": [
       "(39717, 42)"
      ]
     },
     "execution_count": 676,
     "metadata": {},
     "output_type": "execute_result"
    }
   ],
   "source": [
    "# After adding a new column 'issue_year' it becomes 42\n",
    "df1.shape"
   ]
  },
  {
   "cell_type": "code",
   "execution_count": 677,
   "metadata": {},
   "outputs": [
    {
     "name": "stdout",
     "output_type": "stream",
     "text": [
      "<class 'pandas.core.frame.DataFrame'>\n",
      "RangeIndex: 39717 entries, 0 to 39716\n",
      "Data columns (total 42 columns):\n",
      " #   Column                    Non-Null Count  Dtype         \n",
      "---  ------                    --------------  -----         \n",
      " 0   member_id                 39717 non-null  int64         \n",
      " 1   funded_amnt_inv           39717 non-null  float64       \n",
      " 2   term                      39717 non-null  int64         \n",
      " 3   int_rate                  39717 non-null  float64       \n",
      " 4   installment               39717 non-null  float64       \n",
      " 5   grade                     39717 non-null  object        \n",
      " 6   sub_grade                 39717 non-null  object        \n",
      " 7   emp_title                 37258 non-null  object        \n",
      " 8   emp_length                39717 non-null  float64       \n",
      " 9   home_ownership            39717 non-null  object        \n",
      " 10  annual_inc                39717 non-null  float64       \n",
      " 11  verification_status       39717 non-null  object        \n",
      " 12  issue_d                   39717 non-null  datetime64[ns]\n",
      " 13  loan_status               39717 non-null  object        \n",
      " 14  purpose                   39717 non-null  object        \n",
      " 15  zip_code                  39717 non-null  object        \n",
      " 16  addr_state                39717 non-null  object        \n",
      " 17  dti                       39717 non-null  float64       \n",
      " 18  earliest_cr_line          39717 non-null  object        \n",
      " 19  inq_last_6mths            39717 non-null  int64         \n",
      " 20  open_acc                  39717 non-null  int64         \n",
      " 21  pub_rec                   39717 non-null  int64         \n",
      " 22  revol_util                39717 non-null  float64       \n",
      " 23  total_acc                 39717 non-null  int64         \n",
      " 24  out_prncp                 39717 non-null  float64       \n",
      " 25  out_prncp_inv             39717 non-null  float64       \n",
      " 26  total_pymnt               39717 non-null  float64       \n",
      " 27  total_pymnt_inv           39717 non-null  float64       \n",
      " 28  total_rec_prncp           39717 non-null  float64       \n",
      " 29  total_rec_int             39717 non-null  float64       \n",
      " 30  total_rec_late_fee        39717 non-null  float64       \n",
      " 31  recoveries                39717 non-null  float64       \n",
      " 32  collection_recovery_fee   39717 non-null  float64       \n",
      " 33  last_pymnt_d              39646 non-null  object        \n",
      " 34  last_pymnt_amnt           39717 non-null  float64       \n",
      " 35  last_credit_pull_d        39715 non-null  object        \n",
      " 36  acc_now_delinq            39717 non-null  int64         \n",
      " 37  chargeoff_within_12_mths  39661 non-null  float64       \n",
      " 38  delinq_amnt               39717 non-null  int64         \n",
      " 39  pub_rec_bankruptcies      39020 non-null  float64       \n",
      " 40  tax_liens                 39678 non-null  float64       \n",
      " 41  issue_year                39717 non-null  int64         \n",
      "dtypes: datetime64[ns](1), float64(20), int64(9), object(12)\n",
      "memory usage: 12.7+ MB\n"
     ]
    }
   ],
   "source": [
    "df1.info()"
   ]
  },
  {
   "cell_type": "code",
   "execution_count": 679,
   "metadata": {},
   "outputs": [
    {
     "data": {
      "text/html": [
       "<div>\n",
       "<style scoped>\n",
       "    .dataframe tbody tr th:only-of-type {\n",
       "        vertical-align: middle;\n",
       "    }\n",
       "\n",
       "    .dataframe tbody tr th {\n",
       "        vertical-align: top;\n",
       "    }\n",
       "\n",
       "    .dataframe thead th {\n",
       "        text-align: right;\n",
       "    }\n",
       "</style>\n",
       "<table border=\"1\" class=\"dataframe\">\n",
       "  <thead>\n",
       "    <tr style=\"text-align: right;\">\n",
       "      <th>loan_status</th>\n",
       "      <th>Charged Off</th>\n",
       "      <th>Fully Paid</th>\n",
       "    </tr>\n",
       "    <tr>\n",
       "      <th>issue_year</th>\n",
       "      <th></th>\n",
       "      <th></th>\n",
       "    </tr>\n",
       "  </thead>\n",
       "  <tbody>\n",
       "    <tr>\n",
       "      <th>2007</th>\n",
       "      <td>4.546256e+04</td>\n",
       "      <td>2.615134e+05</td>\n",
       "    </tr>\n",
       "    <tr>\n",
       "      <th>2008</th>\n",
       "      <td>6.370311e+05</td>\n",
       "      <td>4.401330e+06</td>\n",
       "    </tr>\n",
       "    <tr>\n",
       "      <th>2009</th>\n",
       "      <td>5.133978e+06</td>\n",
       "      <td>3.596280e+07</td>\n",
       "    </tr>\n",
       "    <tr>\n",
       "      <th>2010</th>\n",
       "      <td>1.457847e+07</td>\n",
       "      <td>9.901754e+07</td>\n",
       "    </tr>\n",
       "    <tr>\n",
       "      <th>2011</th>\n",
       "      <td>4.073972e+07</td>\n",
       "      <td>1.935748e+08</td>\n",
       "    </tr>\n",
       "  </tbody>\n",
       "</table>\n",
       "</div>"
      ],
      "text/plain": [
       "loan_status   Charged Off    Fully Paid\n",
       "issue_year                             \n",
       "2007         4.546256e+04  2.615134e+05\n",
       "2008         6.370311e+05  4.401330e+06\n",
       "2009         5.133978e+06  3.596280e+07\n",
       "2010         1.457847e+07  9.901754e+07\n",
       "2011         4.073972e+07  1.935748e+08"
      ]
     },
     "execution_count": 679,
     "metadata": {},
     "output_type": "execute_result"
    }
   ],
   "source": [
    "# Come up with a PIVOT TABLE:\n",
    "# Filter all rows except 'Current' loan_status(Its not needed due to past data).\n",
    "# Using charged-off and Fully-paid applicants as columns and loan_status as INDEX/GROUPBY .\n",
    "# Applying SUM on funded_amnt_inv.\n",
    "pd.pivot_table(data=df1[(df1['loan_status']!='Current')],index='issue_year',columns=['loan_status'],values='funded_amnt_inv',aggfunc=sum)\n",
    "                                                                                                                                                                                                         \n",
    "                                                                                                            "
   ]
  },
  {
   "cell_type": "code",
   "execution_count": 680,
   "metadata": {},
   "outputs": [],
   "source": [
    "X = pd.pivot_table(data=df1[(df1['loan_status']!='Current')],index='issue_year',columns=['loan_status'],values='funded_amnt_inv',aggfunc=sum)\n",
    "#Storing the data in X                                                                                                                                                                                                                        \n",
    "                                                                                                            "
   ]
  },
  {
   "cell_type": "code",
   "execution_count": 681,
   "metadata": {},
   "outputs": [
    {
     "data": {
      "text/plain": [
       "<matplotlib.axes._subplots.AxesSubplot at 0x7fa718a62100>"
      ]
     },
     "execution_count": 681,
     "metadata": {},
     "output_type": "execute_result"
    },
    {
     "data": {
      "image/png": "[encoded data removed]",
      "text/plain": [
       "<Figure size 720x432 with 1 Axes>"
      ]
     },
     "metadata": {
      "needs_background": "light"
     },
     "output_type": "display_data"
    }
   ],
   "source": [
    "#Plottig a stacked plot on X DF.\n",
    "X.plot(kind=\"bar\", stacked=\"True\", figsize=[10,6])"
   ]
  },
  {
   "cell_type": "markdown",
   "metadata": {},
   "source": [
    "# Analysis Output: 4:1"
   ]
  },
  {
   "cell_type": "markdown",
   "metadata": {},
   "source": [
    "- Observed that the LOAN amount is raising every year and charged-off and fully paid also raising equavellent.\n",
    "- Charged off applicants are close to 1/4th of the fully paid applicants during 2011.Which is HIGH compared to other years.\n"
   ]
  },
  {
   "cell_type": "code",
   "execution_count": 682,
   "metadata": {},
   "outputs": [
    {
     "data": {
      "text/html": [
       "<div>\n",
       "<style scoped>\n",
       "    .dataframe tbody tr th:only-of-type {\n",
       "        vertical-align: middle;\n",
       "    }\n",
       "\n",
       "    .dataframe tbody tr th {\n",
       "        vertical-align: top;\n",
       "    }\n",
       "\n",
       "    .dataframe thead th {\n",
       "        text-align: right;\n",
       "    }\n",
       "</style>\n",
       "<table border=\"1\" class=\"dataframe\">\n",
       "  <thead>\n",
       "    <tr style=\"text-align: right;\">\n",
       "      <th>issue_year</th>\n",
       "      <th>2007</th>\n",
       "      <th>2008</th>\n",
       "      <th>2009</th>\n",
       "      <th>2010</th>\n",
       "      <th>2011</th>\n",
       "    </tr>\n",
       "    <tr>\n",
       "      <th>loan_status</th>\n",
       "      <th></th>\n",
       "      <th></th>\n",
       "      <th></th>\n",
       "      <th></th>\n",
       "      <th></th>\n",
       "    </tr>\n",
       "  </thead>\n",
       "  <tbody>\n",
       "    <tr>\n",
       "      <th>Charged Off</th>\n",
       "      <td>45</td>\n",
       "      <td>247</td>\n",
       "      <td>594</td>\n",
       "      <td>1485</td>\n",
       "      <td>3256</td>\n",
       "    </tr>\n",
       "    <tr>\n",
       "      <th>Fully Paid</th>\n",
       "      <td>206</td>\n",
       "      <td>1315</td>\n",
       "      <td>4122</td>\n",
       "      <td>10047</td>\n",
       "      <td>17260</td>\n",
       "    </tr>\n",
       "  </tbody>\n",
       "</table>\n",
       "</div>"
      ],
      "text/plain": [
       "issue_year   2007  2008  2009   2010   2011\n",
       "loan_status                                \n",
       "Charged Off    45   247   594   1485   3256\n",
       "Fully Paid    206  1315  4122  10047  17260"
      ]
     },
     "execution_count": 682,
     "metadata": {},
     "output_type": "execute_result"
    }
   ],
   "source": [
    "# Deriving a PIVOT TABLE wrt YEAR and loan_status for funded amount SUM.\n",
    "pd.pivot_table(data=df1[(df1['loan_status']!='Current')],index='loan_status',columns=['issue_year'],values='funded_amnt_inv',aggfunc='count')\n",
    "                                                                                                                                                                                                                    \n",
    "                                                                                                            "
   ]
  },
  {
   "cell_type": "code",
   "execution_count": 683,
   "metadata": {},
   "outputs": [],
   "source": [
    "Y=pd.pivot_table(data=df1[(df1['loan_status']!='Current')],index='loan_status',columns=['issue_year'],values='funded_amnt_inv',aggfunc='count')\n",
    "#Storing thd data in Y                                                                                                                                                                                                                      \n",
    "                                                                                                            "
   ]
  },
  {
   "cell_type": "code",
   "execution_count": 684,
   "metadata": {},
   "outputs": [
    {
     "data": {
      "text/plain": [
       "<matplotlib.axes._subplots.AxesSubplot at 0x7fa71ae0c6a0>"
      ]
     },
     "execution_count": 684,
     "metadata": {},
     "output_type": "execute_result"
    },
    {
     "data": {
      "image/png": "[encoded data removed]",
      "text/plain": [
       "<Figure size 720x720 with 1 Axes>"
      ]
     },
     "metadata": {
      "needs_background": "light"
     },
     "output_type": "display_data"
    }
   ],
   "source": [
    "Y.plot(kind='bar',stacked='True',figsize=[10,10])\n",
    "#Plottig stacked plot "
   ]
  },
  {
   "cell_type": "markdown",
   "metadata": {},
   "source": [
    "# Analysis Output:4:2"
   ]
  },
  {
   "cell_type": "markdown",
   "metadata": {},
   "source": [
    "- Its observed that the number of applicants are raising every year which is +ve sign.\n",
    "- Above anaylyis 4:1 is represented here with number of applicant's distribution.\n",
    "- 2011 has more charged-off and fully-paid based on number of applicants."
   ]
  },
  {
   "cell_type": "code",
   "execution_count": 685,
   "metadata": {},
   "outputs": [
    {
     "data": {
      "text/html": [
       "<div>\n",
       "<style scoped>\n",
       "    .dataframe tbody tr th:only-of-type {\n",
       "        vertical-align: middle;\n",
       "    }\n",
       "\n",
       "    .dataframe tbody tr th {\n",
       "        vertical-align: top;\n",
       "    }\n",
       "\n",
       "    .dataframe thead th {\n",
       "        text-align: right;\n",
       "    }\n",
       "</style>\n",
       "<table border=\"1\" class=\"dataframe\">\n",
       "  <thead>\n",
       "    <tr style=\"text-align: right;\">\n",
       "      <th>issue_year</th>\n",
       "      <th>2007</th>\n",
       "      <th>2008</th>\n",
       "      <th>2009</th>\n",
       "      <th>2010</th>\n",
       "      <th>2011</th>\n",
       "    </tr>\n",
       "    <tr>\n",
       "      <th>loan_status</th>\n",
       "      <th></th>\n",
       "      <th></th>\n",
       "      <th></th>\n",
       "      <th></th>\n",
       "      <th></th>\n",
       "    </tr>\n",
       "  </thead>\n",
       "  <tbody>\n",
       "    <tr>\n",
       "      <th>Charged Off</th>\n",
       "      <td>45</td>\n",
       "      <td>247</td>\n",
       "      <td>594</td>\n",
       "      <td>1485</td>\n",
       "      <td>3256</td>\n",
       "    </tr>\n",
       "    <tr>\n",
       "      <th>Fully Paid</th>\n",
       "      <td>206</td>\n",
       "      <td>1315</td>\n",
       "      <td>4122</td>\n",
       "      <td>10047</td>\n",
       "      <td>17260</td>\n",
       "    </tr>\n",
       "  </tbody>\n",
       "</table>\n",
       "</div>"
      ],
      "text/plain": [
       "issue_year   2007  2008  2009   2010   2011\n",
       "loan_status                                \n",
       "Charged Off    45   247   594   1485   3256\n",
       "Fully Paid    206  1315  4122  10047  17260"
      ]
     },
     "execution_count": 685,
     "metadata": {},
     "output_type": "execute_result"
    }
   ],
   "source": [
    "Y\n",
    "#Check teh DF Y"
   ]
  },
  {
   "cell_type": "code",
   "execution_count": 686,
   "metadata": {},
   "outputs": [
    {
     "data": {
      "text/plain": [
       "<matplotlib.axes._subplots.AxesSubplot at 0x7fa71ac94af0>"
      ]
     },
     "execution_count": 686,
     "metadata": {},
     "output_type": "execute_result"
    },
    {
     "data": {
      "image/png": "[encoded data removed]",
      "text/plain": [
       "<Figure size 432x288 with 1 Axes>"
      ]
     },
     "metadata": {
      "needs_background": "light"
     },
     "output_type": "display_data"
    }
   ],
   "source": [
    "#Plotting a graph only to analyse charged-off applicants based on YEAR\n",
    "Y.loc['Charged Off'].plot.bar()"
   ]
  },
  {
   "cell_type": "markdown",
   "metadata": {},
   "source": [
    "# Analysis Output:4:3"
   ]
  },
  {
   "cell_type": "markdown",
   "metadata": {},
   "source": [
    "## The number of charged-off applicants are evidenly clear that, They are growing every year more than 100%."
   ]
  },
  {
   "cell_type": "code",
   "execution_count": 687,
   "metadata": {},
   "outputs": [],
   "source": [
    "Z=pd.pivot_table(data=df1[(df1['loan_status']!='Current')],index='issue_year',columns=['loan_status'],values='term',aggfunc='count')\n",
    "# Same analysis as 4:1 here its using count of applicants                                                                                                                                                                                                                       \n",
    "                                                                                                            "
   ]
  },
  {
   "cell_type": "code",
   "execution_count": 688,
   "metadata": {},
   "outputs": [
    {
     "data": {
      "text/plain": [
       "<matplotlib.axes._subplots.AxesSubplot at 0x7fa71acc98b0>"
      ]
     },
     "execution_count": 688,
     "metadata": {},
     "output_type": "execute_result"
    },
    {
     "data": {
      "image/png": "[encoded data removed]",
      "text/plain": [
       "<Figure size 720x720 with 1 Axes>"
      ]
     },
     "metadata": {
      "needs_background": "light"
     },
     "output_type": "display_data"
    }
   ],
   "source": [
    "Z.plot(kind='bar',stacked='True',figsize=[10,10])"
   ]
  },
  {
   "cell_type": "markdown",
   "metadata": {},
   "source": [
    "# Analysis output: 4:4"
   ]
  },
  {
   "cell_type": "markdown",
   "metadata": {},
   "source": [
    "- To put some more emphasis to show charged-off applicants are growing every year as the number of applicants are raising every year.\n",
    "- The same way, Fully paid are raising every year.\n",
    "- But charged-off is seen to be close to 1/4th of fully paid in  2011."
   ]
  },
  {
   "cell_type": "code",
   "execution_count": 696,
   "metadata": {},
   "outputs": [
    {
     "data": {
      "text/plain": [
       "<matplotlib.collections.PathCollection at 0x7fa711b45df0>"
      ]
     },
     "execution_count": 696,
     "metadata": {},
     "output_type": "execute_result"
    },
    {
     "data": {
      "image/png": "[encoded data removed]",
      "text/plain": [
       "<Figure size 432x288 with 1 Axes>"
      ]
     },
     "metadata": {
      "needs_background": "light"
     },
     "output_type": "display_data"
    }
   ],
   "source": [
    "plt.scatter(Y.loc['Charged Off'],Y.loc['Fully Paid'])"
   ]
  },
  {
   "cell_type": "code",
   "execution_count": 697,
   "metadata": {},
   "outputs": [],
   "source": [
    "# A scatter plto to show charged-off and fully-paid how linear they are."
   ]
  },
  {
   "cell_type": "code",
   "execution_count": null,
   "metadata": {},
   "outputs": [],
   "source": []
  }
 ],
 "metadata": {
  "kernelspec": {
   "display_name": "Python 3",
   "language": "python",
   "name": "python3"
  },
  "language_info": {
   "codemirror_mode": {
    "name": "ipython",
    "version": 3
   },
   "file_extension": ".py",
   "mimetype": "text/x-python",
   "name": "python",
   "nbconvert_exporter": "python",
   "pygments_lexer": "ipython3",
   "version": "3.8.3"
  }
 },
 "nbformat": 4,
 "nbformat_minor": 4
}
